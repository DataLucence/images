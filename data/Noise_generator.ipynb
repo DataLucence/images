{
 "cells": [
  {
   "cell_type": "markdown",
   "metadata": {},
   "source": [
    "**no care was taken to make sure this is theoretically/quantitatively correct** for a first pass. Produces uneven illumination (or uneven autofluorescence/background depending on how it's modified) and adds some shot-like noise on top of this to corrupt the signal. The goal is to simulate lower signal data, since our real starting sample data has high contrast and high SNR. "
   ]
  },
  {
   "cell_type": "code",
   "execution_count": 2,
   "metadata": {
    "collapsed": true
   },
   "outputs": [],
   "source": [
    "%matplotlib inline\n",
    "import numpy as np\n",
    "import matplotlib.pyplot as plt\n",
    "import matplotlib.image as mpimg\n",
    "import seaborn as sns\n",
    "import math\n",
    "import scipy.misc\n",
    "import scipy.ndimage\n",
    "import random\n",
    "from tifffile import imsave"
   ]
  },
  {
   "cell_type": "code",
   "execution_count": 3,
   "metadata": {
    "collapsed": false
   },
   "outputs": [],
   "source": [
    "fname_prefix = \"wtDMSO\"\n",
    "Git_commit_id = \"0c6a19ef14466a53594ab33c66112239bca0c392\"\n",
    "#parameters to be used later\n",
    "illumination_unevenness = 0.8 #modifies the sigma determining the illumination artifact\n",
    "illumination_unevenness_power = 3\n",
    "mean_dark_current = 0.2*10**3 \n",
    "dark_current_std = 100\n",
    "percent_dead_pix = 0.1\n",
    "bit_depth_save = 16\n",
    "signal_lower_factor = 1 #divide the raw signal by this before starting\n",
    "resize_im_factor = 2.5 #make image smaller by this factor\n",
    "autofluorescence = 10**3 #background that is influenced by uneven illumination pattern"
   ]
  },
  {
   "cell_type": "code",
   "execution_count": 7,
   "metadata": {
    "collapsed": false
   },
   "outputs": [],
   "source": [
    "from skimage.io import imread\n",
    "raw = imread('20170601-ROCK-vinc/20170601-WT-DMSO-1.tif')"
   ]
  },
  {
   "cell_type": "code",
   "execution_count": 8,
   "metadata": {
    "collapsed": false
   },
   "outputs": [
    {
     "data": {
      "text/plain": [
       "(1024, 1024, 3)"
      ]
     },
     "execution_count": 8,
     "metadata": {},
     "output_type": "execute_result"
    }
   ],
   "source": [
    "raw.shape"
   ]
  },
  {
   "cell_type": "markdown",
   "metadata": {},
   "source": [
    "**user input** record the number of z-slices"
   ]
  },
  {
   "cell_type": "code",
   "execution_count": 10,
   "metadata": {
    "collapsed": false
   },
   "outputs": [],
   "source": [
    "zs = int(raw.shape[2]/resize_im_factor)"
   ]
  },
  {
   "cell_type": "code",
   "execution_count": 13,
   "metadata": {
    "collapsed": false
   },
   "outputs": [
    {
     "data": {
      "text/plain": [
       "(1024, 1024, 3)"
      ]
     },
     "execution_count": 13,
     "metadata": {},
     "output_type": "execute_result"
    }
   ],
   "source": [
    "im = raw/signal_lower_factor\n",
    "im.shape"
   ]
  },
  {
   "cell_type": "code",
   "execution_count": 12,
   "metadata": {
    "collapsed": false
   },
   "outputs": [
    {
     "ename": "NameError",
     "evalue": "name 'im' is not defined",
     "output_type": "error",
     "traceback": [
      "\u001b[0;31m---------------------------------------------------------------------------\u001b[0m",
      "\u001b[0;31mNameError\u001b[0m                                 Traceback (most recent call last)",
      "\u001b[0;32m<ipython-input-12-f6d91b7c6784>\u001b[0m in \u001b[0;36m<module>\u001b[0;34m()\u001b[0m\n\u001b[0;32m----> 1\u001b[0;31m \u001b[0mmid_index\u001b[0m \u001b[0;34m=\u001b[0m \u001b[0mint\u001b[0m\u001b[0;34m(\u001b[0m\u001b[0mim\u001b[0m\u001b[0;34m.\u001b[0m\u001b[0mshape\u001b[0m\u001b[0;34m[\u001b[0m\u001b[0;36m1\u001b[0m\u001b[0;34m]\u001b[0m\u001b[0;34m/\u001b[0m\u001b[0;36m2\u001b[0m\u001b[0;34m)\u001b[0m\u001b[0;34m\u001b[0m\u001b[0m\n\u001b[0m\u001b[1;32m      2\u001b[0m \u001b[0mprint\u001b[0m\u001b[0;34m(\u001b[0m\u001b[0mmid_index\u001b[0m\u001b[0;34m)\u001b[0m\u001b[0;34m\u001b[0m\u001b[0m\n",
      "\u001b[0;31mNameError\u001b[0m: name 'im' is not defined"
     ]
    }
   ],
   "source": [
    "mid_index = int(im.shape[1]/2)\n",
    "print(mid_index)"
   ]
  },
  {
   "cell_type": "code",
   "execution_count": 325,
   "metadata": {
    "collapsed": false
   },
   "outputs": [],
   "source": [
    "#crudely simulate additive z-dependent autofluorescent signal\n",
    "if autofluorescence != 0 :\n",
    "#     af = np.ones(im.shape)\n",
    "#     for z in range (0,zs-1):\n",
    "#         af[z,:,:,:] = af[z,:,:,:]*autofluorescence*z/zs\n",
    "#     im = im + af\n",
    "    im  = im + autofluorescence*np.ones(im.shape)"
   ]
  },
  {
   "cell_type": "code",
   "execution_count": 326,
   "metadata": {
    "collapsed": false
   },
   "outputs": [],
   "source": [
    "plt.imshow(im[3,:,:,2], vmin = 0, vmax = im.max()*0.5)\n",
    "im.max()"
   ]
  },
  {
   "cell_type": "code",
   "execution_count": 327,
   "metadata": {
    "collapsed": false
   },
   "outputs": [],
   "source": [
    "im.shape"
   ]
  },
  {
   "cell_type": "code",
   "execution_count": 328,
   "metadata": {
    "collapsed": false
   },
   "outputs": [],
   "source": [
    "#crudely simulate uneven illumination\n",
    "\n",
    "#get parameters that are the same across all of the channels and slices\n",
    "dim1 = im.shape[1]\n",
    "dim2 = im.shape[2]\n",
    "\n",
    "def gaussian(x, mu, sigma):\n",
    "            return np.exp(-np.power(x - mu, 2.) / (2 * np.power(sigma, 2.)))\n",
    "mu = mid_index\n",
    "sigma = mid_index*illumination_unevenness\n",
    "gauss = gaussian(np.linspace(0, dim1, dim2), mu, sigma)\n",
    "\n",
    "im_temp = np.zeros([dim1,dim2])\n",
    "\n",
    "noiseD1 = np.zeros([dim1, dim2])\n",
    "for x in range(0, dim1):\n",
    "            noiseD1[:,x] = gauss\n",
    "illumination = np.power(noiseD1.transpose()*noiseD1 , illumination_unevenness_power/2)\n",
    "\n",
    "for Z in range(0,im.shape[0]):\n",
    "    for ch in range(0,im.shape[3]):\n",
    "        im[Z,:,:,ch] = illumination*im[Z,:,:,ch]\n",
    "        \n",
    "plt.imshow(im[3,:,:,2], vmin = 0, vmax = im[3,:,:,2].max()*0.2)"
   ]
  },
  {
   "cell_type": "code",
   "execution_count": 329,
   "metadata": {
    "collapsed": false
   },
   "outputs": [],
   "source": [
    "# plt.imshow(illumination)\n",
    "im.shape\n",
    "plt.imshow(im[3,:,:,2], vmin = 0, vmax = im[3,:,:,2].max()*0.2)"
   ]
  },
  {
   "cell_type": "code",
   "execution_count": 330,
   "metadata": {
    "collapsed": false
   },
   "outputs": [],
   "source": [
    "#add dark/thermal noise, uniform across image and normally distributed\n",
    "#not technically correct, noise should come from dark current shot noise\n",
    "for Z in range(0,im.shape[0]):\n",
    "    for ch in range(0,im.shape[3]):\n",
    "        dark_current = np.random.normal(mean_dark_current, dark_current_std, [dim1,dim2])\n",
    "        im[Z,:,:,ch] = im[Z,:,:,ch] + dark_current\n"
   ]
  },
  {
   "cell_type": "code",
   "execution_count": 331,
   "metadata": {
    "collapsed": false
   },
   "outputs": [],
   "source": [
    "#pretend this is a ccd or scmos and add some dead pixels\n",
    "num_dead = int(percent_dead_pix*dim1*dim2/100)\n",
    "\n",
    "for Z in range(0,raw.shape[0]):\n",
    "    for ch in range(0,raw.shape[3]):\n",
    "        idxs = random.sample(list(np.arange(dim1*dim2)),num_dead)\n",
    "        idx_bool = np.zeros([1,(dim1)*(dim2)], dtype=bool)\n",
    "        idx_bool[0,np.array(idxs)] = True\n",
    "        idx2d_bool = np.reshape(idx_bool, (dim1, dim2))\n",
    "        im[Z,idx2d_bool,ch] = 0"
   ]
  },
  {
   "cell_type": "code",
   "execution_count": 332,
   "metadata": {
    "collapsed": false
   },
   "outputs": [],
   "source": [
    "#plt.imshow(noisy[3,300:500,300:500,2], vmin = 0, vmax = noisy.max()*0.0001)\n",
    "plt.imshow(im[3,:,:,2], vmin = 0, vmax = noisy.max()*0.5)"
   ]
  },
  {
   "cell_type": "code",
   "execution_count": 333,
   "metadata": {
    "collapsed": false
   },
   "outputs": [],
   "source": [
    "im = np.uint16(im/im.max() * (2**bit_depth_save - 1 ))\n",
    "imsave(\"../data/confocal_drug_panel/\" + fname_prefix + \".tif\",im)\n",
    "im.shape"
   ]
  },
  {
   "cell_type": "code",
   "execution_count": 334,
   "metadata": {
    "collapsed": false
   },
   "outputs": [],
   "source": [
    "#write json file for the sample modified dataset\n",
    "import json\n",
    "meta = {'cell_type': 'fibroblast', 'channels': [\"your_fav_protein\", \"nucleus\", \"actin\"], 'pixel_size': [0.3459442,0.3459442,0.7694383], 'axes': ['ZXYTC'],'raw_data_date': ['add_this'], 'image_preprocessing_done': \"Noise_generator.ipynb\", \"GitCommitId=\" + Git_commit_id]}\n",
    "with open(\"../data/confocal_drug_panel/\" + fname_prefix + \"_metadata.json\", 'w') as f:\n",
    "    json.dump(meta, f)"
   ]
  },
  {
   "cell_type": "code",
   "execution_count": null,
   "metadata": {
    "collapsed": true
   },
   "outputs": [],
   "source": []
  },
  {
   "cell_type": "code",
   "execution_count": null,
   "metadata": {
    "collapsed": true
   },
   "outputs": [],
   "source": [
    "#dump of code from 6/2017 to generate uneven illumination patterns\n",
    "\n",
    "illum_intensity = 0.2 #inverse of intensity\n",
    "\n",
    "\n",
    "wt_data = imread(data_path + \"20170601-WT-DMSO-2.tif\")\n",
    "vinc_data = imread(data_path + \"20170601-vincKO-DMSO-2.tif\")\n",
    "\n",
    "illum_bg = np.zeros( wt_data[:,:,0].shape )\n",
    "for x in range(0,1023):\n",
    "    for y in range(0,1023):\n",
    "        illum_bg[y,x] = x**2 * y**0.3\n",
    "\n",
    "illum_bg = illum_bg / illum_bg.max()\n",
    "illum_bg = illum_bg + np.random.normal(illum_intensity,illum_intensity/10,illum_bg.shape)\n",
    "illum_bg = illum_bg / illum_bg.max()\n",
    "\n",
    "illum_bg[illum_bg<0] = 0\n",
    "\n",
    "plt.imshow(illum_bg)\n",
    "print(illum_bg.min())\n",
    "print(illum_bg.max())\n",
    "\n",
    "\n",
    "dim_skew = 2\n",
    "im = vinc_data.copy()\n",
    "im[:,:,dim_skew] = im[:,:,dim_skew] * illum_bg \n",
    "\n",
    "from tifffile import imsave\n",
    "im = np.uint16(im/im.max() * (2**16 - 1 ))\n",
    "imsave(data_path + \"20170601-vincKO-DMSO-1-noised.tif\",im)\n",
    "plt.imshow(im[:,:,dim_skew])"
   ]
  },
  {
   "cell_type": "code",
   "execution_count": null,
   "metadata": {
    "collapsed": true
   },
   "outputs": [],
   "source": [
    "#dump of code to generate some nice metadata files\n",
    "\n",
    "import json\n",
    "meta = {'cell_type': 'MEF', 'channels': [\"pax\", \"actin\", \"nucleus\"], 'pixel_size': [0.2196471,0.2196471], 'axes': ['XYC'],'raw_data_date': ['2017-06-01'], 'image_preprocessing_done': \"NA\"}\n",
    "with open(data_path + \"20170601-vincKO-DMSO-1.json\", 'w') as f:\n",
    "    json.dump(meta, f)"
   ]
  }
 ],
 "metadata": {
  "anaconda-cloud": {},
  "kernelspec": {
   "display_name": "Python [Root]",
   "language": "python",
   "name": "Python [Root]"
  },
  "language_info": {
   "codemirror_mode": {
    "name": "ipython",
    "version": 3
   },
   "file_extension": ".py",
   "mimetype": "text/x-python",
   "name": "python",
   "nbconvert_exporter": "python",
   "pygments_lexer": "ipython3",
   "version": "3.5.2"
  }
 },
 "nbformat": 4,
 "nbformat_minor": 0
}
