{
 "cells": [
  {
   "cell_type": "code",
   "execution_count": 4,
   "metadata": {
    "collapsed": true
   },
   "outputs": [],
   "source": [
    "%matplotlib inline\n",
    "import numpy as np\n",
    "import matplotlib.pyplot as plt\n",
    "import seaborn as sns\n",
    "from skimage.io import imread\n",
    "sns.set_style('dark', rc={'image.cmap':'inferno'})\n",
    "import matplotlib.axes as ax\n",
    "from skimage.io import imread\n",
    "\n",
    "path = \"../../../Downloads/111315-M2A-ACTN-2D.tif\"\n",
    "im = imread(path)"
   ]
  },
  {
   "cell_type": "code",
   "execution_count": 5,
   "metadata": {
    "collapsed": false
   },
   "outputs": [],
   "source": [
    "im.shape"
   ]
  },
  {
   "cell_type": "code",
   "execution_count": 37,
   "metadata": {
    "collapsed": false
   },
   "outputs": [],
   "source": [
    "plt.imshow(im[2,1,:,:])\n",
    "\n",
    "mip = np.zeros([im.shape[2], im.shape[3],2])\n",
    "for ch in range(0,im.shape[1]):\n",
    "    for z in range(1,2):\n",
    "        mip[:,:,ch] = np.maximum(mip[:,:,ch], im[z,ch,:,:])\n",
    "plt.imshow(mip[:,:,0])\n",
    "mip = np.uint16(mip)"
   ]
  },
  {
   "cell_type": "code",
   "execution_count": 60,
   "metadata": {
    "collapsed": false
   },
   "outputs": [],
   "source": [
    "xmin = 400\n",
    "ymin = 100\n",
    "crop_size = 150\n",
    "\n",
    "xmax = xmin + crop_size\n",
    "ymax= ymin + crop_size\n",
    "crop = mip[ymin:ymax, xmin:xmax, 0]\n",
    "plt.imshow(crop, interpolation = 'nearest')"
   ]
  },
  {
   "cell_type": "code",
   "execution_count": 97,
   "metadata": {
    "collapsed": false
   },
   "outputs": [],
   "source": [
    "from skimage.filters.rank import median as median_filter\n",
    "from skimage.filters.rank import minimum\n",
    "from skimage.filters.rank import maximum\n",
    "from skimage.filters.rank import mean\n",
    "from skimage.filters.rank import entropy\n",
    "from skimage.morphology import disk\n",
    "s=2\n",
    "s2 = 10\n",
    "\n",
    "fs = 28 #font size in the fig\n",
    "\n",
    "top = mip.max()*0.7\n",
    "\n",
    "fig, ax = plt.subplots(2, 3, figsize=(10, 5))\n",
    "\n",
    "min_filtered = minimum(mip[ymin:ymax, xmin:xmax, 0], disk(s))\n",
    "max_filtered = maximum(mip[ymin:ymax, xmin:xmax, 0], disk(s))\n",
    "mean_filtered = mean(mip[ymin:ymax, xmin:xmax, 0], disk(s))\n",
    "min_filtered2 = minimum(mip[ymin:ymax, xmin:xmax, 0], disk(s2))\n",
    "max_filtered2 = maximum(mip[ymin:ymax, xmin:xmax, 0], disk(s2))\n",
    "mean_filtered2 = mean(mip[ymin:ymax, xmin:xmax, 0], disk(s2))\n",
    "\n",
    "ax[0,0].imshow(mean_filtered2, interpolation = 'nearest', vmin = 0, vmax = top)\n",
    "ax[0,1].imshow(max_filtered, interpolation = 'nearest', vmin = 0, vmax = top)\n",
    "ax[0,2].imshow(mean_filtered, interpolation = 'nearest', vmin = 0, vmax = top)\n",
    "ax[1,0].imshow(min_filtered, interpolation = 'nearest', vmin = 0, vmax = top)\n",
    "ax[1,1].imshow(max_filtered2, interpolation = 'nearest', vmin = 0, vmax = top)\n",
    "ax[1,2].imshow(min_filtered2, interpolation = 'nearest', vmin = 0, vmax = top)\n",
    "\n",
    "for dim1 in range(0,2):\n",
    "    for dim2 in range(0,3):\n",
    "        ax[dim1, dim2].set_axis_off()\n",
    "\n",
    "ax[0,0].set_title(\"A\", fontsize = fs)\n",
    "ax[0,1].set_title(\"B\", fontsize = fs)\n",
    "ax[0,2].set_title(\"C\", fontsize = fs)\n",
    "ax[1,0].set_title(\"D\", fontsize = fs)\n",
    "ax[1,1].set_title(\"E\", fontsize = fs)\n",
    "ax[1,2].set_title(\"F\", fontsize = fs)\n",
    "\n",
    "fig.savefig('./types_of_filters_exercise.png')"
   ]
  },
  {
   "cell_type": "code",
   "execution_count": 104,
   "metadata": {
    "collapsed": false
   },
   "outputs": [],
   "source": [
    "plt.imshow(mip[ymin:ymax,xmin:xmax,0], vmin=0, vmax = top)\n",
    "from skimage.io import imsave\n",
    "imsave(\"raw_for_types_of_filters_exercise.png\", mip[ymin:ymax,xmin:xmax,0])"
   ]
  },
  {
   "cell_type": "markdown",
   "metadata": {},
   "source": [
    "http://scikit-image.org/docs/dev/api/skimage.filters.rank.html"
   ]
  },
  {
   "cell_type": "code",
   "execution_count": 102,
   "metadata": {
    "collapsed": false
   },
   "outputs": [],
   "source": [
    "from skimage.io import imsave"
   ]
  },
  {
   "cell_type": "code",
   "execution_count": 103,
   "metadata": {
    "collapsed": true
   },
   "outputs": [],
   "source": [
    "imsave?"
   ]
  },
  {
   "cell_type": "code",
   "execution_count": null,
   "metadata": {
    "collapsed": true
   },
   "outputs": [],
   "source": []
  }
 ],
 "metadata": {
  "kernelspec": {
   "display_name": "Python [Root]",
   "language": "python",
   "name": "Python [Root]"
  },
  "language_info": {
   "codemirror_mode": {
    "name": "ipython",
    "version": 3
   },
   "file_extension": ".py",
   "mimetype": "text/x-python",
   "name": "python",
   "nbconvert_exporter": "python",
   "pygments_lexer": "ipython3",
   "version": "3.5.2"
  }
 },
 "nbformat": 4,
 "nbformat_minor": 0
}
