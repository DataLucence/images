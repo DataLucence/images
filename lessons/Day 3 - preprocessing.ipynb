{
 "cells": [
  {
   "cell_type": "markdown",
   "metadata": {},
   "source": [
    "# Day 3\n",
    "\n",
    "Will be done ASAP: \n",
    "Get noisier actin signal dataset, stronger nuclear signal dataset \n",
    "Re-order processing steps\n",
    "Consider a quick discussion of different types of noise\n",
    "Consider re-organizing Day3/4 and 5/6 lesson plans into \"fixed images\" and \"dynamic images\" since it's hard to motivate pre-processing w/o what we wanted to put into \"quantification\"\n",
    "\n",
    "Associated learning goal: Preprocess image data without introducing bias in downstream analysis.\n",
    "\n",
    "- Fix shot noise in the image\n",
    "    - using a median filter\n",
    "- Background subtraction\n",
    "    - manual (as a strawman)\n",
    "    - Ostu\n",
    "    - rolling ball (show a failure)\n",
    "- Discuss the concept of a pre-processing pipeline\n",
    "- Order the pre-processing steps for the pipeline based on the goals of the project\n",
    "- Masks and morphological operations\n",
    "    - Show slicing an image with a mask\n",
    "    - Erode/dilate\n",
    "    - Open/close\n",
    "    \n",
    "Other themes to keep in mind that can be used as a foundation for this lesson: \n",
    "    -Think about the downstream analysis you want to do do on the data when deciding which preprocessing steps to do.\n",
    "    -There will be many instances when you need to determine the parameters by inspecting intermediate steps\n",
    "    -It is especially important in these instances to use consistent parameters and loop through the data and report\n",
    "    the parameters used (or better yet, make code available) so that analysis can be reproduced."
   ]
  },
  {
   "cell_type": "markdown",
   "metadata": {},
   "source": [
    "First some boilerplate code to make it easier to access useful libraries, and to make it easier to visualize data in the notebook."
   ]
  },
  {
   "cell_type": "code",
   "execution_count": 1,
   "metadata": {
    "collapsed": false
   },
   "outputs": [],
   "source": [
    "%matplotlib inline"
   ]
  },
  {
   "cell_type": "code",
   "execution_count": 2,
   "metadata": {
    "collapsed": false
   },
   "outputs": [],
   "source": [
    "import numpy as np\n",
    "import matplotlib.pyplot as plt\n",
    "import seaborn as sns"
   ]
  },
  {
   "cell_type": "code",
   "execution_count": 3,
   "metadata": {
    "collapsed": false
   },
   "outputs": [],
   "source": [
    "sns.set_style('dark', rc={'image.cmap':'inferno'})"
   ]
  },
  {
   "cell_type": "markdown",
   "metadata": {},
   "source": [
    "Let's import an image file and associated metadata as we learnt yesterday!"
   ]
  },
  {
   "cell_type": "code",
   "execution_count": 4,
   "metadata": {
    "collapsed": false
   },
   "outputs": [],
   "source": [
    "from skimage.io import imread\n",
    "data_drug = imread(\"../data/drug.tif\")\n",
    "data_nodrug = imread(\"../data/no_drug.tif\")"
   ]
  },
  {
   "cell_type": "code",
   "execution_count": 5,
   "metadata": {
    "collapsed": false
   },
   "outputs": [],
   "source": [
    "import json\n",
    "with open('../data/drug.json', mode='r') as f_drug:\n",
    "    meta_drug = json.load(f_drug)\n",
    "with open('../data/no_drug.json', mode='r') as f_nodrug:\n",
    "    meta_nodrug = json.load(f_nodrug)\n",
    "\n",
    "drug_stack = {}\n",
    "nodrug_stack = {}\n",
    "for idx, channel in enumerate(meta_drug['channels']):\n",
    "    drug_stack[channel] = data_drug[:,:,idx]\n",
    "    nodrug_stack[channel] = data_nodrug[:,:,idx]    \n",
    "    print(channel)"
   ]
  },
  {
   "cell_type": "markdown",
   "metadata": {},
   "source": [
    "Let's display the images to make sure everything worked as expected..."
   ]
  },
  {
   "cell_type": "code",
   "execution_count": 7,
   "metadata": {
    "collapsed": false
   },
   "outputs": [],
   "source": [
    "fig, ax = plt.subplots(1, 3, figsize=(16, 4))\n",
    "ax[0].imshow(drug_stack[\"actin\"])\n",
    "ax[1].imshow(drug_stack['nucleus'])\n",
    "ax[2].imshow(drug_stack[\"your_fav_protein\"])\n",
    "\n",
    "fig, ax = plt.subplots(1, 3, figsize=(16, 4))\n",
    "ax[0].imshow(nodrug_stack[\"actin\"])\n",
    "ax[1].imshow(nodrug_stack['nucleus'])\n",
    "ax[2].imshow(nodrug_stack[\"your_fav_protein\"])"
   ]
  },
  {
   "cell_type": "markdown",
   "metadata": {},
   "source": [
    "#here we inject some story line. \n",
    "\n",
    "Use the actin channel to segment the cell body\n",
    "Use the nuclear channel to determine the location of the nucleus.\n",
    "Determine if the localization of yfp changes with drug treatment, so need to be careful with background subtraction. Demonstrate that the median filter actually changes the mean values of the image and foreground, so use it only for smoothing the image for masking."
   ]
  },
  {
   "cell_type": "code",
   "execution_count": 8,
   "metadata": {
    "collapsed": false
   },
   "outputs": [],
   "source": [
    "sns.distplot(drug_stack[\"actin\"].flatten())"
   ]
  },
  {
   "cell_type": "markdown",
   "metadata": {},
   "source": [
    "## Image processing pipelines: an example"
   ]
  },
  {
   "cell_type": "markdown",
   "metadata": {},
   "source": [
    "Image data can be corrupted by a number of detector, optical, and statistical issues that obscure fluorescence quantification. Preprocessing can help correct for these problems.\n",
    "\n",
    "We want to view the fluorescence intensity of cells in this image. We will need to reliably find cell bodies and be careful not to adjust their pixel intensities.\n",
    "\n",
    "**Preprocessing misteps are a good way to get a paper retracted. We argue that it's easier to make these misteps when doing things manually, but it's not *impossible* to do it computationally. In fact if you don't check intermediate steps of your data in either case, it's no good. Always visualize your intermediates.**"
   ]
  },
  {
   "cell_type": "markdown",
   "metadata": {},
   "source": [
    "So, let's get started!"
   ]
  },
  {
   "cell_type": "markdown",
   "metadata": {},
   "source": [
    "### Removing background from images: manual correction"
   ]
  },
  {
   "cell_type": "code",
   "execution_count": 22,
   "metadata": {
    "collapsed": false
   },
   "outputs": [],
   "source": [
    "from ipywidgets import interactive\n",
    "@interactive\n",
    "def manual_background_subtract(bg=(1, 10)):\n",
    "    fig, ax = plt.subplots(1, 2, figsize=(9, 4))\n",
    "    bgs = np.array(drug_stack['your_fav_protein'][500:600,50:150]) - bg   \n",
    "    ax[0].imshow(drug_stack['your_fav_protein'][500:600,50:150])\n",
    "    ax[1].imshow(bgs[500:600,50:150])\n",
    "manual_background_subtract"
   ]
  },
  {
   "cell_type": "code",
   "execution_count": null,
   "metadata": {
    "collapsed": true
   },
   "outputs": [],
   "source": []
  },
  {
   "cell_type": "code",
   "execution_count": null,
   "metadata": {
    "collapsed": true
   },
   "outputs": [],
   "source": []
  },
  {
   "cell_type": "markdown",
   "metadata": {},
   "source": [
    "### Removing Shot Noise from your Image -- Median Fitering"
   ]
  },
  {
   "cell_type": "markdown",
   "metadata": {},
   "source": [
    "We will start this exercise by determining which pixels in the image correspond to the cytoplasm, and which pixels correspond to the nucleus. "
   ]
  },
  {
   "cell_type": "code",
   "execution_count": 55,
   "metadata": {
    "collapsed": true
   },
   "outputs": [],
   "source": [
    "#the quantitative utility of filters for anything aside from making images look nicer and smoothing for masking is questionable. We need to think about how this fits into the lesson. I argue for background subtraction first."
   ]
  },
  {
   "cell_type": "markdown",
   "metadata": {},
   "source": [
    "These images were taken with a confocal microscope, which uses a PMT (photomultiplier tube) with high sensitivity. However, because this detector operates in a low-photon regime, shot noise (Poisson distributed) can add substantial deviation of pixel values from the local fluorescence intensities they represent. Shot noise is commonly removed with a median filter, although other rank filters exist."
   ]
  },
  {
   "cell_type": "code",
   "execution_count": 52,
   "metadata": {
    "collapsed": false
   },
   "outputs": [],
   "source": [
    "from scipy.ndimage.filters import median_filter\n",
    "plt.imshow(drug_stack[\"actin\"][500:600,50:150])"
   ]
  },
  {
   "cell_type": "code",
   "execution_count": 78,
   "metadata": {
    "collapsed": false
   },
   "outputs": [],
   "source": [
    "from ipywidgets import interactive\n",
    "\n",
    "@interactive\n",
    "def apply_filter(size=(1, 21)):\n",
    "    fig, ax = plt.subplots(1, 3, figsize=(9, 4))\n",
    "    filtered = median_filter(drug_stack['actin'][500:600,50:150], size=size)\n",
    "    ax[0].imshow(drug_stack['actin'][500:600,50:150])\n",
    "    ax[1].imshow(filtered)\n",
    "    dif_img = filtered.astype('int') - drug_stack['actin'][500:600,50:150].astype('int')\n",
    "    extreme = 10000#abs(dif_img).max()\n",
    "    im = ax[2].imshow(dif_img, vmin=-extreme, vmax=extreme, cmap='coolwarm')\n",
    "    #plt.colorbar(im, ax=ax[1])\n",
    "    print(\"total difference in image =\" + str(np.mean(dif_img)) + \" arbitrary units\")\n",
    "    print(\"percent change =\" + str(np.mean(dif_img)/100) + \"%\") \n",
    "apply_filter\n",
    "\n"
   ]
  },
  {
   "cell_type": "markdown",
   "metadata": {
    "collapsed": true
   },
   "source": [
    "Note that the size of the filter determines the value of the mean value of the pixels in the output. A good rule of thumb when determining an appropriate filter size is that it should be the smallest filter that sufficiently flattens the visible noise in the background. Many of these operations do not have well-accepted statistical tests for determing the appropriate parameters, so care needs to be taken to record and reproduce processing steps with the same parameters. \n",
    "\n",
    "Let's choose a filter size of 3x3."
   ]
  }
 ],
 "metadata": {
  "anaconda-cloud": {},
  "kernelspec": {
   "display_name": "Python [Root]",
   "language": "python",
   "name": "Python [Root]"
  },
  "language_info": {
   "codemirror_mode": {
    "name": "ipython",
    "version": 3
   },
   "file_extension": ".py",
   "mimetype": "text/x-python",
   "name": "python",
   "nbconvert_exporter": "python",
   "pygments_lexer": "ipython3",
   "version": "3.5.2"
  }
 },
 "nbformat": 4,
 "nbformat_minor": 0
}
