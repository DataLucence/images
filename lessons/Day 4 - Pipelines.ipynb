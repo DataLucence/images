{
 "cells": [
  {
   "cell_type": "markdown",
   "metadata": {},
   "source": [
    "Today we'll be continuing with the dataset that we worked with in Day 3.\n",
    "\n",
    "Day 3 (Preprocessing) introduced some preprocessing steps that allowed us to detect the cell bodies and nuclei by making masks of the actin and DAPI channels. In that case, we had a very clear sense of whether our preprocessing steps were \"working\" using visual inspection of the mask as a quality control. "
   ]
  },
  {
   "cell_type": "markdown",
   "metadata": {},
   "source": [
    "Our end goal is to quantify the change in nuclear localization and amount of your favorite protein with drug treatment. We would like to be able to answer two questions: \n",
    "\n",
    "1) Does the *total* amount of protein per cell change with drug treatment and \n",
    "\n",
    "2) How does the localization change between the nucleus and the cytplasm? \n",
    "\n",
    "Addressing these questions requires care when choosing the preprocessing algorithms to apply and their ordering, as well as batch processing across datasets.\n"
   ]
  },
  {
   "cell_type": "markdown",
   "metadata": {},
   "source": [
    "## Pipeline design: ordering steps for fluorescence quantification"
   ]
  },
  {
   "cell_type": "markdown",
   "metadata": {
    "collapsed": true
   },
   "source": [
    "Let's pull in the data from yesterday and make the mask as we did earlier..."
   ]
  },
  {
   "cell_type": "code",
   "execution_count": 1,
   "metadata": {
    "collapsed": true
   },
   "outputs": [],
   "source": [
    "%matplotlib inline"
   ]
  },
  {
   "cell_type": "code",
   "execution_count": 2,
   "metadata": {
    "collapsed": true
   },
   "outputs": [],
   "source": [
    "import numpy as np\n",
    "import matplotlib.pyplot as plt\n",
    "import seaborn as sns"
   ]
  },
  {
   "cell_type": "code",
   "execution_count": 3,
   "metadata": {
    "collapsed": true
   },
   "outputs": [],
   "source": [
    "sns.set_style('dark', rc={'image.cmap':'inferno'})"
   ]
  },
  {
   "cell_type": "code",
   "execution_count": 4,
   "metadata": {
    "collapsed": true
   },
   "outputs": [],
   "source": [
    "from skimage.io import imread\n",
    "data_drug = imread(\"../data/drug.tif\")\n",
    "data_nodrug = imread(\"../data/no_drug.tif\")"
   ]
  },
  {
   "cell_type": "code",
   "execution_count": 5,
   "metadata": {
    "collapsed": false
   },
   "outputs": [],
   "source": [
    "import json\n",
    "with open('../data/drug.json', mode='r') as f_drug:\n",
    "    meta_drug = json.load(f_drug)\n",
    "with open('../data/no_drug.json', mode='r') as f_nodrug:\n",
    "    meta_nodrug = json.load(f_nodrug)\n",
    "\n",
    "drug_stack = {}\n",
    "nodrug_stack = {}\n",
    "for idx, channel in enumerate(meta_drug['channels']):\n",
    "    drug_stack[channel] = data_drug[:,:,idx]\n",
    "    nodrug_stack[channel] = data_nodrug[:,:,idx]    \n",
    "    print(channel)"
   ]
  },
  {
   "cell_type": "markdown",
   "metadata": {},
   "source": [
    "Always look at your data... (even though you just did yesterday)"
   ]
  },
  {
   "cell_type": "code",
   "execution_count": 6,
   "metadata": {
    "collapsed": false
   },
   "outputs": [],
   "source": [
    "fig, ax = plt.subplots(1, 3, figsize=(16, 4))\n",
    "ax[0].imshow(nodrug_stack[\"actin\"])\n",
    "ax[1].imshow(nodrug_stack['nucleus'])\n",
    "ax[2].imshow(nodrug_stack[\"your_fav_protein\"])\n",
    "\n",
    "fig, ax = plt.subplots(1, 3, figsize=(16, 4))\n",
    "ax[0].imshow(drug_stack[\"actin\"])\n",
    "ax[1].imshow(drug_stack['nucleus'])\n",
    "ax[2].imshow(drug_stack[\"your_fav_protein\"])"
   ]
  },
  {
   "cell_type": "markdown",
   "metadata": {},
   "source": [
    "As we learnt yesterday, we'll make a mask by median filtering, then making a mask using the threshold given by Otsu's method, and finally, perform some morphological operations to make our masks look decent. We'll do both the actin and nucleus channels together this time..."
   ]
  },
  {
   "cell_type": "code",
   "execution_count": 7,
   "metadata": {
    "collapsed": false
   },
   "outputs": [],
   "source": [
    "from scipy.ndimage.filters import median_filter\n",
    "from skimage import filters\n",
    "import skimage.morphology as sm\n",
    "\n",
    "channels_of_interest = ['actin', 'nucleus'] # Don't do anything to your_fav_protein!!\n",
    "median_filter_size = 3\n",
    "data = drug_stack\n",
    "drug_masks = {}\n",
    "\n",
    "for channel in channels_of_interest:\n",
    "    original = data[channel].copy() # No need to start over-writing things...\n",
    "    filtered = median_filter(original, size=median_filter_size)\n",
    "    otsu_thresh = filters.threshold_otsu(filtered)\n",
    "    masked = filtered > otsu_thresh\n",
    "\n",
    "    morph1 = sm.binary_closing(masked,sm.disk(15))\n",
    "    morph2 = sm.binary_opening(morph1,sm.disk(15))\n",
    "    drug_masks[channel] = morph2"
   ]
  },
  {
   "cell_type": "markdown",
   "metadata": {},
   "source": [
    "You should take a look at what happened..."
   ]
  },
  {
   "cell_type": "code",
   "execution_count": 8,
   "metadata": {
    "collapsed": false
   },
   "outputs": [],
   "source": [
    "ch = 'nucleus'\n",
    "fig, ax = plt.subplots(1, 2, figsize=(12, 6))\n",
    "ax[0].imshow(drug_stack[ch])\n",
    "ax[1].imshow(drug_masks[ch])"
   ]
  },
  {
   "cell_type": "markdown",
   "metadata": {},
   "source": [
    "At this point, we've converted both our \"actin\" and \"nucleus\" channels to binary masks. Let's now make a \"cell body\" mask that has the cells but not the nuclei."
   ]
  },
  {
   "cell_type": "code",
   "execution_count": 9,
   "metadata": {
    "collapsed": false
   },
   "outputs": [],
   "source": [
    "drug_masks['cell_body'] = drug_masks['actin'] ^ drug_masks['nucleus'] # ^ is essentially a minus sign\n",
    "\n",
    "fig, ax = plt.subplots(1, 2, figsize=(12, 6))\n",
    "ax[0].imshow(drug_stack['nucleus'])\n",
    "ax[1].imshow(drug_masks['cell_body'])"
   ]
  },
  {
   "cell_type": "markdown",
   "metadata": {},
   "source": [
    "Ugh, lots of unnecessary holes... We know what to do about that!"
   ]
  },
  {
   "cell_type": "code",
   "execution_count": 26,
   "metadata": {
    "collapsed": false
   },
   "outputs": [],
   "source": [
    "cell_body = drug_masks['cell_body'].copy()\n",
    "nucleus = drug_masks['nucleus'].copy()\n",
    "refined_cell_body_mask = sm.binary_closing(cell_body, sm.disk(25))\n",
    "refined_nucleus_mask= sm.binary_closing(nucleus, sm.disk(25))\n",
    "\n",
    "fig, ax = plt.subplots(1, 3, figsize=(12, 6))\n",
    "ax[0].imshow(nucleus)\n",
    "ax[1].imshow(refined_cell_body_mask)\n",
    "ax[2].imshow(refined_nucleus_mask)"
   ]
  },
  {
   "cell_type": "markdown",
   "metadata": {},
   "source": [
    "Close enough. Now let's calculate a mean cytoplasmic and nuclear intensities of *your_fav_protein*. For this, we'll apply our masks to the image of interest."
   ]
  },
  {
   "cell_type": "code",
   "execution_count": 31,
   "metadata": {
    "collapsed": false
   },
   "outputs": [],
   "source": [
    "yfp = drug_stack['your_fav_protein']\n",
    "inv_nucleus_mask = ~refined_nucleus_mask\n",
    "inv_cell_body_mask = ~refined_cell_body_mask \n",
    "\n",
    "nuclear_intensities = yfp.copy()\n",
    "nuclear_intensities[inv_nucleus_mask] = 0\n",
    "\n",
    "cytoplasmic_intensities = yfp.copy()\n",
    "cytoplasmic_intensities[inv_cell_body_mask] = 0\n",
    "\n",
    "fig, ax = plt.subplots(1, 2, figsize=(12, 6))\n",
    "ax[0].imshow(nuclear_intensities)\n",
    "ax[1].imshow(cytoplasmic_intensities)"
   ]
  },
  {
   "cell_type": "markdown",
   "metadata": {},
   "source": [
    "Now we can easily measure cytoplasmic and nuclear averages!"
   ]
  },
  {
   "cell_type": "code",
   "execution_count": null,
   "metadata": {
    "collapsed": true
   },
   "outputs": [],
   "source": []
  }
 ],
 "metadata": {
  "anaconda-cloud": {},
  "kernelspec": {
   "display_name": "Python [Root]",
   "language": "python",
   "name": "Python [Root]"
  },
  "language_info": {
   "codemirror_mode": {
    "name": "ipython",
    "version": 3
   },
   "file_extension": ".py",
   "mimetype": "text/x-python",
   "name": "python",
   "nbconvert_exporter": "python",
   "pygments_lexer": "ipython3",
   "version": "3.5.2"
  }
 },
 "nbformat": 4,
 "nbformat_minor": 0
}
