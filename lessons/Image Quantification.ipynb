{
 "cells": [
  {
   "cell_type": "markdown",
   "metadata": {},
   "source": [
    "Today we'll be continuing with the dataset that we worked with in Day 3.\n",
    "\n",
    "Day 3 (Preprocessing) introduced some preprocessing steps that allowed us to detect the cell bodies and nuclei by making masks of the actin and DAPI channels. In that case, we had a very clear sense of whether our preprocessing steps were \"working\" using visual inspection of the mask as a quality control. "
   ]
  },
  {
   "cell_type": "markdown",
   "metadata": {},
   "source": [
    "Our end goal is to quantify the change in nuclear localization and amount of your favorite protein with drug treatment. We would like to be able to answer two questions: \n",
    "\n",
    "1) Does the *total* amount of protein per cell change with drug treatment and \n",
    "\n",
    "2) How does the localization change between the nucleus and the cytplasm? \n",
    "\n",
    "Addressing these questions requires care when choosing the preprocessing algorithms to apply and their ordering, as well as batch processing across datasets.\n"
   ]
  },
  {
   "cell_type": "markdown",
   "metadata": {},
   "source": [
    "## Pipeline design: ordering steps for fluorescence quantification"
   ]
  },
  {
   "cell_type": "markdown",
   "metadata": {
    "collapsed": true
   },
   "source": [
    "Let's pull in the data from yesterday and make the mask as we did earlier..."
   ]
  },
  {
   "cell_type": "code",
   "execution_count": 10,
   "metadata": {
    "collapsed": true
   },
   "outputs": [],
   "source": [
    "%matplotlib inline"
   ]
  },
  {
   "cell_type": "code",
   "execution_count": 11,
   "metadata": {
    "collapsed": true
   },
   "outputs": [],
   "source": [
    "import numpy as np\n",
    "import matplotlib.pyplot as plt\n",
    "import seaborn as sns"
   ]
  },
  {
   "cell_type": "code",
   "execution_count": 12,
   "metadata": {
    "collapsed": true
   },
   "outputs": [],
   "source": [
    "sns.set_style('dark', rc={'image.cmap':'inferno'})"
   ]
  },
  {
   "cell_type": "code",
   "execution_count": 13,
   "metadata": {
    "collapsed": false
   },
   "outputs": [],
   "source": [
    "from skimage.io import imread\n",
    "\n",
    "data_drug = imread(\"../data/confocal_drug_panel/drugA.tif\")\n",
    "data_nodrug = imread(\"../data/confocal_drug_panel/DMSO.tif\")"
   ]
  },
  {
   "cell_type": "code",
   "execution_count": 14,
   "metadata": {
    "collapsed": false
   },
   "outputs": [],
   "source": [
    "import json\n",
    "with open('../data/confocal_drug_panel/DMSO_metadata.json', mode='r') as f_nodrug:\n",
    "    meta_nodrug = json.load(f_nodrug)\n",
    "\n",
    "for key, value in meta_nodrug.items():\n",
    "    print(key)\n",
    "\n",
    "drug_slice = {}\n",
    "nodrug_slice = {}\n",
    "for idx, channel in enumerate(meta_nodrug['channels']):\n",
    "    drug_slice[channel] = data_drug[3,:,:,idx]\n",
    "    nodrug_slice[channel] = data_nodrug[3,:,:,idx] #add in the indexing when read in full dataset\n",
    "    print(channel)"
   ]
  },
  {
   "cell_type": "markdown",
   "metadata": {},
   "source": [
    "Always look at your data... (even though you just did yesterday)"
   ]
  },
  {
   "cell_type": "code",
   "execution_count": 15,
   "metadata": {
    "collapsed": false
   },
   "outputs": [],
   "source": [
    "fig, ax = plt.subplots(1, 3, figsize=(16, 4))\n",
    "ax[0].imshow(nodrug_slice[\"actin\"])\n",
    "ax[1].imshow(nodrug_slice['nucleus'])\n",
    "ax[2].imshow(nodrug_slice[\"your_fav_protein\"])\n",
    "\n",
    "fig, ax = plt.subplots(1, 3, figsize=(16, 4))\n",
    "ax[0].imshow(drug_slice[\"actin\"])\n",
    "ax[1].imshow(drug_slice['nucleus'])\n",
    "ax[2].imshow(drug_slice[\"your_fav_protein\"])"
   ]
  },
  {
   "cell_type": "markdown",
   "metadata": {},
   "source": [
    "As we learnt yesterday, we'll make a mask by median filtering, then making a mask using the threshold given by Otsu's method, and finally, perform some morphological operations to make our masks look decent. We'll do both the actin and nucleus channels together this time..."
   ]
  },
  {
   "cell_type": "code",
   "execution_count": 56,
   "metadata": {
    "collapsed": false
   },
   "outputs": [],
   "source": [
    "from scipy.ndimage.filters import median_filter\n",
    "from skimage import filters\n",
    "import skimage.morphology as sm\n",
    "\n",
    "channels_of_interest = ['actin', 'nucleus'] # Don't do anything to your_fav_protein!!\n",
    "median_filter_size = 2\n",
    "data = drug_slice\n",
    "drug_masks = {}\n",
    "\n",
    "for channel in channels_of_interest:\n",
    "    original = data[channel].copy() # No need to start over-writing things...\n",
    "    filtered = median_filter(original, size=median_filter_size)\n",
    "    otsu_thresh = filters.threshold_otsu(filtered)\n",
    "    masked = filtered > otsu_thresh\n",
    "\n",
    "    morph1 = sm.binary_closing(masked,sm.disk(3))\n",
    "    morph2 = sm.binary_opening(morph1,sm.disk(3))\n",
    "    drug_masks[channel] = morph2"
   ]
  },
  {
   "cell_type": "markdown",
   "metadata": {},
   "source": [
    "You should take a look at what happened..."
   ]
  },
  {
   "cell_type": "code",
   "execution_count": 57,
   "metadata": {
    "collapsed": false
   },
   "outputs": [],
   "source": [
    "ch = 'nucleus'\n",
    "fig, ax = plt.subplots(1, 2, figsize=(12, 6))\n",
    "ax[0].imshow(drug_slice[ch])\n",
    "ax[1].imshow(drug_masks[ch])"
   ]
  },
  {
   "cell_type": "markdown",
   "metadata": {},
   "source": [
    "At this point, we've converted both our \"actin\" and \"nucleus\" channels to binary masks. Let's now make a \"cell body\" mask that has the cells but not the nuclei."
   ]
  },
  {
   "cell_type": "code",
   "execution_count": 58,
   "metadata": {
    "collapsed": false
   },
   "outputs": [],
   "source": [
    "drug_masks['cell_body'] = drug_masks['actin'] ^ drug_masks['nucleus'] # ^ is essentially a minus sign\n",
    "\n",
    "fig, ax = plt.subplots(1, 2, figsize=(12, 6))\n",
    "ax[0].imshow(drug_masks['nucleus'])\n",
    "ax[1].imshow(drug_masks['cell_body'])"
   ]
  },
  {
   "cell_type": "markdown",
   "metadata": {},
   "source": [
    "Ugh, lots of unnecessary holes in the actin mask... We know what to do about that!"
   ]
  },
  {
   "cell_type": "code",
   "execution_count": 70,
   "metadata": {
    "collapsed": false
   },
   "outputs": [],
   "source": [
    "actin = drug_masks['actin'].copy()\n",
    "nucleus = drug_masks['nucleus'].copy()\n",
    "refined_actin_mask = sm.binary_dilation(actin, sm.disk(5))\n",
    "\n",
    "refined_cell_body_mask= refined_actin_mask ^ nucleus\n",
    "\n",
    "fig, ax = plt.subplots(1, 3, figsize=(12, 6))\n",
    "ax[0].imshow(nucleus)\n",
    "ax[1].imshow(refined_actin_mask)\n",
    "ax[2].imshow(refined_cell_body_mask)"
   ]
  },
  {
   "cell_type": "markdown",
   "metadata": {},
   "source": [
    "Close enough. Now let's calculate a mean cytoplasmic and nuclear intensities of *your_fav_protein*. For this, we'll apply our masks to the image of interest."
   ]
  },
  {
   "cell_type": "code",
   "execution_count": 71,
   "metadata": {
    "collapsed": false
   },
   "outputs": [],
   "source": [
    "yfp = drug_slice['your_fav_protein']\n",
    "inv_nucleus_mask = ~refined_nucleus_mask\n",
    "inv_cell_body_mask = ~refined_cell_body_mask \n",
    "\n",
    "nuclear_intensities = yfp.copy()\n",
    "nuclear_intensities[inv_nucleus_mask] = 0\n",
    "\n",
    "cytoplasmic_intensities = yfp.copy()\n",
    "cytoplasmic_intensities[inv_cell_body_mask] = 0\n",
    "\n",
    "fig, ax = plt.subplots(1, 2, figsize=(12, 6))\n",
    "ax[0].imshow(nuclear_intensities)\n",
    "ax[1].imshow(cytoplasmic_intensities)"
   ]
  },
  {
   "cell_type": "markdown",
   "metadata": {},
   "source": [
    "Now we can easily measure cytoplasmic and nuclear averages!"
   ]
  },
  {
   "cell_type": "code",
   "execution_count": null,
   "metadata": {
    "collapsed": true
   },
   "outputs": [],
   "source": []
  }
 ],
 "metadata": {
  "anaconda-cloud": {},
  "kernelspec": {
   "display_name": "Python 2",
   "language": "python",
   "name": "python2"
  },
  "language_info": {
   "codemirror_mode": {
    "name": "ipython",
    "version": 2
   },
   "file_extension": ".py",
   "mimetype": "text/x-python",
   "name": "python",
   "nbconvert_exporter": "python",
   "pygments_lexer": "ipython2",
   "version": "2.7.12"
  }
 },
 "nbformat": 4,
 "nbformat_minor": 0
}
