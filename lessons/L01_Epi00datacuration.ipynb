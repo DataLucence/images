{
 "cells": [
  {
   "cell_type": "markdown",
   "metadata": {},
   "source": [
    "# Managing and curating digital data\n",
    "this episode presents one way to organize digital data.  there are many strategies you might consider. the important thing is to have a strategy.\n",
    "\n",
    "updated 2017-06-03 mbg"
   ]
  },
  {
   "cell_type": "markdown",
   "metadata": {},
   "source": [
    "Key points\n",
    "1. Keep raw data raw\n",
    "2. Develop a filenaming convention that uniquely identifies raw data\n",
    "3. Keep analysis code together with data"
   ]
  },
  {
   "cell_type": "markdown",
   "metadata": {},
   "source": [
    "Download sample raw data from canvas"
   ]
  },
  {
   "cell_type": "markdown",
   "metadata": {},
   "source": [
    "Create a directory for your project\n",
    "Open the terminal\n",
    "go to your home directory\n",
    "mkdir Projects\n",
    "mkdir wheremfp\n",
    "in this directory, create \n",
    "1. code directory (use github for version control here)\n",
    "2. raw\n",
    "3. clean\n",
    "4. results\n",
    "5. fig"
   ]
  }
 ],
 "metadata": {
  "kernelspec": {
   "display_name": "Python 3",
   "language": "python",
   "name": "python3"
  },
  "language_info": {
   "codemirror_mode": {
    "name": "ipython",
    "version": 3
   },
   "file_extension": ".py",
   "mimetype": "text/x-python",
   "name": "python",
   "nbconvert_exporter": "python",
   "pygments_lexer": "ipython3",
   "version": "3.6.0"
  }
 },
 "nbformat": 4,
 "nbformat_minor": 2
}
