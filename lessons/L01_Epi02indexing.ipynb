{
 "cells": [
  {
   "cell_type": "markdown",
   "metadata": {},
   "source": [
    "#  Accessing specific pixels in single images, or specific images in a stack\n",
    "This episode uses indexing to display a subregion of the image or to modify the values of specific pixels (in a copy of the raw image, keeping the raw image raw).  Indexing can also be used to generate statistics on pixels by row, by col, or by (col,row) "
   ]
  },
  {
   "cell_type": "code",
   "execution_count": null,
   "metadata": {
    "collapsed": true
   },
   "outputs": [],
   "source": [
    "%matplotlib inline               \n",
    "import numpy as np               #import numpy as np, allows us to type \"np\" instead of \"numpy\"\n",
    "import matplotlib.pyplot as plt  #same idea, now we can call matplotlib.pyplot using \"plt\"\n",
    "import seaborn as sns            #ditto, enables us to use the seaborn library/package by typing \"sns\""
   ]
  },
  {
   "cell_type": "code",
   "execution_count": null,
   "metadata": {
    "collapsed": true
   },
   "outputs": [],
   "source": [
    "from skimage.io import imread    #get the function imread from skimage.io package"
   ]
  },
  {
   "cell_type": "code",
   "execution_count": null,
   "metadata": {
    "collapsed": true
   },
   "outputs": [],
   "source": [
    "imagepath = \"../raw/\"\n",
    "imagefile = imagepath+\"8bit_im.tif\""
   ]
  },
  {
   "cell_type": "code",
   "execution_count": null,
   "metadata": {
    "collapsed": true
   },
   "outputs": [],
   "source": [
    "data = imread(imagefile)"
   ]
  },
  {
   "cell_type": "code",
   "execution_count": null,
   "metadata": {
    "collapsed": true
   },
   "outputs": [],
   "source": [
    "sns.set_style(\"dark\") # This gets rid of grid line on our image plots!"
   ]
  },
  {
   "cell_type": "code",
   "execution_count": null,
   "metadata": {},
   "outputs": [],
   "source": [
    "plt.imshow(data, cmap='gray')"
   ]
  },
  {
   "cell_type": "code",
   "execution_count": null,
   "metadata": {},
   "outputs": [],
   "source": [
    "data[0,0] #what part of the image will this access? what will this command generate?"
   ]
  },
  {
   "cell_type": "markdown",
   "metadata": {},
   "source": [
    "this is the upper leftmost pixel"
   ]
  },
  {
   "cell_type": "code",
   "execution_count": null,
   "metadata": {},
   "outputs": [],
   "source": [
    "data[-1,0]"
   ]
  },
  {
   "cell_type": "code",
   "execution_count": null,
   "metadata": {},
   "outputs": [],
   "source": [
    "data[0:10,-10:]"
   ]
  },
  {
   "cell_type": "code",
   "execution_count": null,
   "metadata": {},
   "outputs": [],
   "source": [
    "plt.imshow(data[0:20,-20:], cmap = 'gray')"
   ]
  },
  {
   "cell_type": "markdown",
   "metadata": {},
   "source": [
    "OK, so this is an image instead of an array of numbers (but behind the scenes they are \n",
    "                                                       the same things)\n",
    "But, its very blocky and pixelated.  This is because matplotlib is plotting an object you can see, enlarging each pixel."
   ]
  },
  {
   "cell_type": "code",
   "execution_count": null,
   "metadata": {},
   "outputs": [],
   "source": [
    "plt.imshow(data[0:20,-20:], cmap = 'gray', interpolation = 'nearest')"
   ]
  },
  {
   "cell_type": "markdown",
   "metadata": {},
   "source": [
    "Now we want to explore manipulating these data, but remembering to keep raw data raw, \n",
    "we will work with a copy"
   ]
  },
  {
   "cell_type": "code",
   "execution_count": null,
   "metadata": {},
   "outputs": [],
   "source": [
    "datacopy = data.copy()\n",
    "plt.imshow(datacopy, cmap = 'gray')"
   ]
  },
  {
   "cell_type": "code",
   "execution_count": null,
   "metadata": {},
   "outputs": [],
   "source": [
    "datacopy[:1000, -1000:]=0\n",
    "plt.imshow(datacopy, cmap = 'gray')"
   ]
  },
  {
   "cell_type": "markdown",
   "metadata": {},
   "source": [
    "#  Handling more complex images (stacks)"
   ]
  },
  {
   "cell_type": "code",
   "execution_count": null,
   "metadata": {
    "collapsed": true
   },
   "outputs": [],
   "source": [
    "imagefile = imagepath+\"organ-of-corti.tif\"\n",
    "img = imread(imagefile)"
   ]
  },
  {
   "cell_type": "code",
   "execution_count": null,
   "metadata": {},
   "outputs": [],
   "source": [
    "print(imagefile)"
   ]
  },
  {
   "cell_type": "code",
   "execution_count": null,
   "metadata": {},
   "outputs": [],
   "source": [
    "img.shape"
   ]
  },
  {
   "cell_type": "markdown",
   "metadata": {},
   "source": [
    "What does this tell us about the image? It isn't (rows, col), right? \n",
    "--This file represents a stack of images, in which each image in the stack is a 'slice'\n",
    "--Each slice is the same shape (rows, col)\n",
    "--Each slice has mulitple channels"
   ]
  },
  {
   "cell_type": "code",
   "execution_count": null,
   "metadata": {},
   "outputs": [],
   "source": [
    "print(\"The first index {0:d} indicates number of slices in the data set.\".format(list(img.shape)[0]))\n",
    "print(\"The second index {0:d} indicates number of rows in each slice of image array, thus width of the image\".format(list(img.shape)[1]))\n",
    "print(\"The second index {0:d} indicates number of columns in each slice of image array, thus height of the image\".format(list(img.shape)[2]))\n",
    "print(\"The second index {0:d} indicates number of channels in the data set\".format(list(img.shape)[3]))"
   ]
  },
  {
   "cell_type": "code",
   "execution_count": null,
   "metadata": {},
   "outputs": [],
   "source": [
    "# for example, view slice 12 in channel 3, remember zero-indexing!\n",
    "slice_num = 11\n",
    "channel_num = 2\n",
    "plt.imshow(img[slice_num,:,:,channel_num], cmap = 'gray', interpolation = 'nearest')"
   ]
  },
  {
   "cell_type": "markdown",
   "metadata": {},
   "source": [
    "# Add code here to compute maximum intensity images for one channel\n",
    "# Then display all four channels in a 2x2 grid"
   ]
  },
  {
   "cell_type": "code",
   "execution_count": null,
   "metadata": {},
   "outputs": [],
   "source": [
    "# SOLUTION:\n",
    "mip = np.zeros([img.shape[1], img.shape[2], img.shape[3]])\n",
    "\n",
    "for ch in range(0,img.shape[3]):\n",
    "    for z in range(0,img.shape[0]):\n",
    "        mip[:,:,ch] = np.maximum(mip[:,:,ch], img[z,:,:,ch])"
   ]
  },
  {
   "cell_type": "code",
   "execution_count": null,
   "metadata": {},
   "outputs": [],
   "source": [
    "fig, ax = plt.subplots(2, 2, figsize=(10, 5))\n",
    "# channel 1\n",
    "ax[0, 0].imshow(mip[:,:,0], cmap = 'gray')\n",
    "ax[0, 0].set_title('Channel 1')\n",
    "# channel 2\n",
    "ax[0, 1].imshow(mip[:,:,1], cmap = 'gray')\n",
    "ax[0, 1].set_title('Channel 2')\n",
    "# channel 3\n",
    "ax[1, 0].imshow(mip[:,:,2], cmap = 'gray')\n",
    "ax[1, 0].set_title('Channel 3')\n",
    "# channel 4\n",
    "ax[1, 1].imshow(mip[:,:,3], cmap = 'gray')\n",
    "ax[1, 1].set_title('Channel 4')"
   ]
  }
 ],
 "metadata": {
  "kernelspec": {
   "display_name": "Python 3",
   "language": "python",
   "name": "python3"
  },
  "language_info": {
   "codemirror_mode": {
    "name": "ipython",
    "version": 3
   },
   "file_extension": ".py",
   "mimetype": "text/x-python",
   "name": "python",
   "nbconvert_exporter": "python",
   "pygments_lexer": "ipython3",
   "version": "3.6.1"
  }
 },
 "nbformat": 4,
 "nbformat_minor": 2
}
