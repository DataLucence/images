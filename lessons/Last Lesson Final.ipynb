{
 "cells": [
  {
   "cell_type": "markdown",
   "metadata": {},
   "source": [
    "# Last Lesson: Image Quantification\n",
    "\n",
    "Two of the most common questions people ask given a fluorescence dataset are (1) the location and (2) the local fluorescence intensity of their favorite fluorescent molecule in a sample. Today, we will first review on how to use previously introduced preprocessing steps that allowed us to detect region of interests (ROIs) in a fluorescent image by creating a binary mask with an intensity threshold. Then we will learn some new preprocessing steps including:\n",
    "\n",
    "* Morphological operations to optimize a mask\n",
    "* Quantify the change in localization and amount of your favorite protein"
   ]
  },
  {
   "cell_type": "markdown",
   "metadata": {},
   "source": [
    "## Download files:\n",
    "\n",
    "We will work with data from an experiment to determine whether treatment with a drug causes a shift in the localization of a protein.\n",
    "\n",
    "**Hypothesis: Treatment with drug A will cause a decrease in the total amount of protein Y.** \n",
    "\n",
    "Make sure you have downloaded the following files in your working directory:\n",
    "\n",
    "* DMSO.tif\n",
    "* DMSO_metadata.json\n",
    "* drugA.tif\n",
    "* drugA_metadata.json\n",
    "\n",
    "Our end goal is to quantify the change in nuclear localization and amount of your favorite protein (**yfp**) with drug treatment. We would like to be able to answer two questions: \n",
    "\n",
    "1) Does the *total* amount of yfp per cell change with drug treatment and \n",
    "\n",
    "2) How does the localization of yfp change between the nucleus and the cytoplasm? \n",
    "\n",
    "Addressing these questions requires care when choosing the preprocessing algorithms to apply and their ordering, as well as batch processing across datasets."
   ]
  },
  {
   "cell_type": "markdown",
   "metadata": {},
   "source": [
    "## Pipeline design: ordering steps for fluorescence quantification\n",
    "\n",
    "    (1) Read image data and metadata files\n",
    "    (2) In this case for a confocal z-stack, extract a single slice of image to preprocess\n",
    "    (3) View your sample image and decide what preprocessing algorithms to use\n",
    "    (4) Filter out noise in the background of the sample image\n",
    "    (5) Get an intensity threshold using the filtered image to create a binary mask\n",
    "    (6) Optimize the mask using morphological operations\n",
    "    (7) Identify and quantify the fluorescence intensity of ROIs using the optimized mask"
   ]
  },
  {
   "cell_type": "markdown",
   "metadata": {
    "collapsed": true
   },
   "source": [
    "## Load libraries"
   ]
  },
  {
   "cell_type": "code",
   "execution_count": 1,
   "metadata": {
    "collapsed": true
   },
   "outputs": [],
   "source": [
    "# Load all of the useful libraries\n",
    "import numpy as np\n",
    "import matplotlib.pyplot as plt\n",
    "import seaborn as sns\n",
    "from skimage.io import imread\n",
    "import json\n",
    "\n",
    "# make sure our plots are shown inline\n",
    "%matplotlib inline\n",
    "\n",
    "# set the plot display format to your favorite settings\n",
    "sns.set_style('dark', rc={'image.cmap':'inferno'})"
   ]
  },
  {
   "cell_type": "markdown",
   "metadata": {},
   "source": [
    "## Step 1: Read images and metadata.json files"
   ]
  },
  {
   "cell_type": "code",
   "execution_count": 2,
   "metadata": {
    "collapsed": true
   },
   "outputs": [],
   "source": [
    "# set image path, make sure to add a back slash at the end!\n",
    "imagepath = \"../data/confocal_drug_panel/\"\n",
    "\n",
    "# set image file names\n",
    "imagename_drug = \"drugA.tif\"\n",
    "imagename_nodrug = \"DMSO.tif\"\n",
    "\n",
    "# set metadata file name (we only need to load one file for our purpose here)\n",
    "metaname = \"DMSO_metadata.json\""
   ]
  },
  {
   "cell_type": "code",
   "execution_count": 3,
   "metadata": {
    "collapsed": true
   },
   "outputs": [],
   "source": [
    "# import images\n",
    "data_drug = imread(imagepath + imagename_drug)\n",
    "data_nodrug = imread(imagepath + imagename_nodrug)"
   ]
  },
  {
   "cell_type": "code",
   "execution_count": 4,
   "metadata": {},
   "outputs": [],
   "source": [
    "# check out the image dimension/shape\n",
    "# what do you think each dimension means?\n",
    "data_drug.shape"
   ]
  },
  {
   "cell_type": "code",
   "execution_count": 5,
   "metadata": {},
   "outputs": [],
   "source": [
    "# the answer to above question\n",
    "# Want to know how the function \"format\" works? Check out this link: https://pyformat.info/\n",
    "print(\"The first dimension {0:d} represents number of slices in this confocal z-stack\".format(data_drug.shape[0]))\n",
    "print(\"The second dimension {0:d} represents number of rows (i.e., y) in each slice of image\".format(data_drug.shape[1]))\n",
    "print(\"The third dimension {0:d} represents number of columns (i.e., x) in each slice of image\".format(data_drug.shape[2]))\n",
    "print(\"The fourth dimension {0:d} represents number of fluorescent channels\".format(data_drug.shape[3]))"
   ]
  },
  {
   "cell_type": "markdown",
   "metadata": {},
   "source": [
    "# Challenge: write a code in the cell provided below to display slice 3, channel 1 in data_drug"
   ]
  },
  {
   "cell_type": "code",
   "execution_count": 6,
   "metadata": {},
   "outputs": [],
   "source": [
    "# display slice 3 and channel 1 in data_drug\n",
    "plt.imshow(data_drug[2, :, :, 0])"
   ]
  },
  {
   "cell_type": "markdown",
   "metadata": {},
   "source": [
    "### How does a metadata file help us?"
   ]
  },
  {
   "cell_type": "code",
   "execution_count": 7,
   "metadata": {
    "collapsed": true
   },
   "outputs": [],
   "source": [
    "# import metadata\n",
    "# The \"with\" function will make sure the metadata file will be closed by the end of the function\n",
    "# this will prevent any alteration to the original file; mode 'r' stands for read only\n",
    "with open(imagepath + metaname, mode='r') as f_nodrug:\n",
    "    meta_nodrug = json.load(f_nodrug)"
   ]
  },
  {
   "cell_type": "code",
   "execution_count": 8,
   "metadata": {},
   "outputs": [],
   "source": [
    "# Recall metadata.json file is a dictionary with keys and corresponding values\n",
    "# Let's print out each of the key and its correspoonding value\n",
    "# Note: there is a built-in method items() that returns a list of dict's (key, value) pairs\n",
    "for key, value in meta_nodrug.items():\n",
    "    print(\"This is the key: \", key)\n",
    "    print(\"This is the value: \", value)"
   ]
  },
  {
   "cell_type": "markdown",
   "metadata": {},
   "source": [
    "## Step 2: Extract a sinlge slice of image from this confocal z-stack"
   ]
  },
  {
   "cell_type": "code",
   "execution_count": 9,
   "metadata": {},
   "outputs": [],
   "source": [
    "# Initialize two empty dicts to store the slice of z-stack we want to analyze (curly brackets!)\n",
    "# Because there are three channels, our final dictionary will have keys = channel name,\n",
    "# and value = corresponding image in the channel\n",
    "drug_slice = {}\n",
    "nodrug_slice = {}\n",
    "\n",
    "# Initialize slice number we want to extract\n",
    "slicenum = 3\n",
    "\n",
    "# Use your favorite for loop to fill in the dicts!\n",
    "# Remember that meta_nodrug['channels'] is a list, the \"enumerate\" function allows you to index the list\n",
    "for idx, channel in enumerate(meta_nodrug[\"channels\"]):\n",
    "    \n",
    "    # recall the dimension/shape of the z-stack is (slice, row, column, channel)\n",
    "    drug_slice[channel] = data_drug[slicenum,:,:,idx]\n",
    "    nodrug_slice[channel] = data_nodrug[slicenum,:,:,idx]\n",
    "    \n",
    "    # print out the channel to make sure we fill in the dict with correct keys\n",
    "    print(channel)"
   ]
  },
  {
   "cell_type": "markdown",
   "metadata": {},
   "source": [
    "## Step 3: View your images (always!)"
   ]
  },
  {
   "cell_type": "code",
   "execution_count": 10,
   "metadata": {},
   "outputs": [],
   "source": [
    "# Settings to increase the image contrast to be used in the \"imshow\" function\n",
    "# minimum intensity to display:\n",
    "low =  0\n",
    "# maximum intensity to display:\n",
    "# 40% of the maximum intensity in the actin channel (this percentage is arbitrary)\n",
    "# recall that lowering the percentage of max intensity to display makes the contrast brighter\n",
    "top = nodrug_slice[\"actin\"].max()*0.4\n",
    "\n",
    "# initialize a new figure, then imshow no drug data in a subplot\n",
    "# ax is a handle to each subplot that allows us to control each subplot\n",
    "fig, ax = plt.subplots(1, 3, figsize = (20, 5))\n",
    "ax[0].imshow(nodrug_slice[\"actin\"], vmin = low, vmax = top)\n",
    "ax[1].imshow(nodrug_slice['nucleus'], vmin = low, vmax = top)\n",
    "ax[2].imshow(nodrug_slice[\"your_fav_protein\"], vmin = low, vmax = top)\n",
    "# add title to the whole figure, note that is \"suPtitle\" not \"subtitle\"!\n",
    "fig.suptitle('Before Drug', fontsize = 30)\n",
    "\n",
    "# initialize another new figure, then imshow drug data in a subplot\n",
    "fig, ax = plt.subplots(1, 3, figsize = (20, 5))\n",
    "ax[0].imshow(drug_slice[\"actin\"], vmin = low, vmax = top)\n",
    "ax[1].imshow(drug_slice['nucleus'], vmin = low, vmax = top)\n",
    "ax[2].imshow(drug_slice[\"your_fav_protein\"], vmin = low, vmax = top)\n",
    "# add title to the whole figure\n",
    "fig.suptitle('After Drug', fontsize = 30)"
   ]
  },
  {
   "cell_type": "markdown",
   "metadata": {},
   "source": [
    "# Challenge: How does drug treatment affect yfp intensity and nuclear localization? What measurements can answer these questions? What imperfections can get in the way?"
   ]
  },
  {
   "cell_type": "markdown",
   "metadata": {},
   "source": [
    "Given using the SAME contrast to view the images, we can intuitively believe that (1) the nuclear intensity of yfp decreases and (2) yfp moves out from the nucleus to the cytoplasm after drug treatment. To justify our conclusions we need to quantify the yfp intensity both in the nucleus and in the cytoplasm. However, we need to perform image preprocessing to remove the dead pixels and high background fluorescence due to un-even illumination."
   ]
  },
  {
   "cell_type": "markdown",
   "metadata": {},
   "source": [
    "## Step 4: Remove background noise in the image by applying filters"
   ]
  },
  {
   "cell_type": "code",
   "execution_count": 11,
   "metadata": {},
   "outputs": [],
   "source": [
    "# let's zoom in on one of the images\n",
    "# set arbitrary figure size in inches\n",
    "plt.figure(figsize = (10, 10))\n",
    "# imshow image\n",
    "plt.imshow(nodrug_slice[\"actin\"][200:400, 300:500], vmin = low, vmax = top)"
   ]
  },
  {
   "cell_type": "markdown",
   "metadata": {},
   "source": [
    "There are at least two problems with our image after zooming-in on them:\n",
    "\n",
    "    (1) Non-uniform illumination resulting in high background fluorescence\n",
    "    (2) Black spots that most likely are caused by dead pixels in camera\n",
    "\n",
    "To resolve these two problems, we will apply our previously learned preprocessing algorthim - filter - to remove these annoying noises. With the filtered image, we can easily identify an intensity threshold and create a binary (i.e., black/white) mask for further image quantification."
   ]
  },
  {
   "cell_type": "markdown",
   "metadata": {},
   "source": [
    "### What is a filter and how it works?\n",
    "\n",
    "To filter out an image, we need two things (1) an image to be filtered and (2) a structuring element (square, disk, or any shape of structure) with a certain size. For example, say we have an image with a size of 100 x 100, and a square matrix with a size of 3 x 3 as a structuring element. To \"filter\" the image, we move the square across the whole image and apply a mathematical operation to the neighbors within the square overlapping with the image, and then replace the intensity value at the center of the image overlapping with the square by the calculated result. The kind of mathematical operation depends on the type of filter function you call. There are two types of filter functions, linear and non-linear. The common ones we use are non-linear including (1) **median filter**, good for removing \"salt and pepper\" noises such as dead pixels from a camera, and (2) **minimum filter** (typically being used in rolling ball background subtraction), good for removing non-uniform illumination. The size of the structuring element determines the value of the replaced pixel as well as how much the original image will be blurred by the filter. The bigger the structuring element, the more neighboring pixels will be included to calculate the replaced value. So a good rule of thumb when determining an appropriate filter size is that is should be the smallest filter that sufficiently flattens the visible noise in the background. Many of these operations do not have well-accepted statistical tests for determing the appropriate parameters, so care needs to be taken to record and reproduce processing steps with the same parameters."
   ]
  },
  {
   "cell_type": "code",
   "execution_count": 12,
   "metadata": {
    "collapsed": true
   },
   "outputs": [],
   "source": [
    "# load more useful libraries\n",
    "from scipy.ndimage.filters import median_filter\n",
    "from scipy.ndimage.filters import minimum_filter\n",
    "from skimage import filters"
   ]
  },
  {
   "cell_type": "code",
   "execution_count": 13,
   "metadata": {
    "collapsed": true
   },
   "outputs": [],
   "source": [
    "# we will work on both drug and no drug images, and in both the actin and nucleus channels\n",
    "channels_of_interest = ['actin', 'nucleus']\n",
    "\n",
    "# WARNING: Do NOT do anything to the yfp channel as you don't want to manipulate the real intensity data\n",
    "# filtering is ONLY for creating a mask to identify ROIs!\n",
    "\n",
    "# filter parameters\n",
    "# dead pixels are small so a square with a size of 2 x 2 is good enough\n",
    "median_filter_size = 2\n",
    "# the filter size for a minimum filter should be set to at least the size of the largest object \n",
    "# that is not part of the background\n",
    "min_filter_size = 101\n",
    "\n",
    "# initialize empty dictionary to store processed images\n",
    "clean_drug = {}\n",
    "clean_nodrug = {}\n",
    "\n",
    "# loop through both channels to filter image in each channel\n",
    "for channel in channels_of_interest:\n",
    "    \n",
    "    # copy image so that raw is kept raw!\n",
    "    original_drug = drug_slice[channel].copy()\n",
    "    original_nodrug = nodrug_slice[channel].copy()\n",
    "    \n",
    "    # apply median filter to remove dead pixels\n",
    "    filtered_drug = median_filter(original_drug, size = median_filter_size)\n",
    "    filtered_nodrug = median_filter(original_nodrug, size = median_filter_size)\n",
    "    \n",
    "    # apply minimum filter to remove high background fluorescence (i.e., rolling ball background subtraction)\n",
    "    # drug\n",
    "    background_drug = minimum_filter(filtered_drug, size = min_filter_size)\n",
    "    bgs_drug = filtered_drug - background_drug\n",
    "    # no drug\n",
    "    background_nodrug = minimum_filter(filtered_nodrug, size = min_filter_size)\n",
    "    bgs_nodrug = filtered_nodrug - background_nodrug\n",
    "    \n",
    "    # store in dictionary\n",
    "    clean_drug[channel] = bgs_drug\n",
    "    clean_nodrug[channel] = bgs_nodrug"
   ]
  },
  {
   "cell_type": "code",
   "execution_count": 14,
   "metadata": {},
   "outputs": [],
   "source": [
    "# get a feel on what minimum filter is doing by visualization\n",
    "fig, ax = plt.subplots(1, 3, figsize = (12, 6))\n",
    "# view original image\n",
    "ax[0].imshow(original_nodrug, vmin = low, vmax = top)\n",
    "ax[0].set_title('Original', fontsize = 20)\n",
    "# view image after applying a minimum filter, i.e., the background\n",
    "ax[1].imshow(background_nodrug, vmin = low, vmax = top)\n",
    "ax[1].set_title('Minimum filtered', fontsize = 20)\n",
    "# view image after subtracting the background\n",
    "ax[2].imshow(bgs_nodrug, vmin = low, vmax = top)\n",
    "ax[2].set_title('Background subtracted', fontsize = 20)"
   ]
  },
  {
   "cell_type": "code",
   "execution_count": 15,
   "metadata": {},
   "outputs": [],
   "source": [
    "# let's now view our original and processed images side by side\n",
    "# set channel to view\n",
    "# ch = \"nucleus\"\n",
    "ch = \"actin\"\n",
    "fig, ax = plt.subplots(1, 2, figsize = (12, 6))\n",
    "ax[0].imshow(nodrug_slice[ch], vmin = low, vmax = top)\n",
    "ax[0].set_title('Original', fontsize = 20)\n",
    "ax[1].imshow(clean_nodrug[ch], vmin = low, vmax = top)\n",
    "ax[1].set_title('Filtered', fontsize = 20)\n",
    "fig.suptitle('Before Drug', fontsize = 30)\n",
    "\n",
    "fig, ax = plt.subplots(1, 2, figsize=(12, 6))\n",
    "ax[0].imshow(drug_slice[ch], vmin = low, vmax = top)\n",
    "ax[0].set_title('Original', fontsize = 20)\n",
    "ax[1].imshow(clean_drug[ch], vmin = low, vmax = top)\n",
    "ax[1].set_title('Filtered', fontsize = 20)\n",
    "fig.suptitle('After Drug', fontsize = 30)"
   ]
  },
  {
   "cell_type": "code",
   "execution_count": 16,
   "metadata": {},
   "outputs": [],
   "source": [
    "# let's zoom in again to see whether we removed the dead pixels\n",
    "fig, ax = plt.subplots(1, 2, figsize = (14, 7))\n",
    "ax[0].imshow(nodrug_slice[ch][200:400, 300:500], vmin = low, vmax = top)\n",
    "ax[0].set_title('Original', fontsize = 30)\n",
    "ax[1].imshow(clean_nodrug[ch][200:400, 300:500], vmin = low, vmax = top)\n",
    "ax[1].set_title('Filtered', fontsize = 30)"
   ]
  },
  {
   "cell_type": "markdown",
   "metadata": {},
   "source": [
    "## Step 5: Create a binary mask using intensity threshold\n",
    "\n",
    "With these filtered image, we can now figure out an intensity threshold to create a binary mask."
   ]
  },
  {
   "cell_type": "markdown",
   "metadata": {},
   "source": [
    "### Method 1: Manually figure out an intensity threshold"
   ]
  },
  {
   "cell_type": "code",
   "execution_count": 17,
   "metadata": {},
   "outputs": [],
   "source": [
    "# let's use one of the filtered images as an example\n",
    "sample = clean_nodrug['actin'].copy()\n",
    "# collapse all pixels in this 2D image into a 1D array\n",
    "sample_array = sample.flatten()\n",
    "# plot a histogram\n",
    "plt.figure(figsize = (12, 6))\n",
    "# kde is an optional argument for displaying a fitted distribution curve, by default it's True (i.e., on)\n",
    "# we want to turn it off (i.e., set to False) here\n",
    "sns.distplot(sample_array, kde = False)\n",
    "# change x limit to zoom in on the plot\n",
    "plt.gca().set_xlim([0, 21000])\n",
    "# label axes\n",
    "plt.xlabel('Intenisty per pixel', fontsize = 20)\n",
    "plt.ylabel('Counts', fontsize = 20)"
   ]
  },
  {
   "cell_type": "code",
   "execution_count": 18,
   "metadata": {},
   "outputs": [],
   "source": [
    "# manually determined intensity threshold\n",
    "manual_thresh = 2500\n",
    "\n",
    "# create a binary mask (black = 0; white = 1)\n",
    "# here we are using a logical operator:\n",
    "# anything bigger than the compared value will be true or set to 1, anything else will be false or set to 0\n",
    "sample_manual_mask = sample > manual_thresh\n",
    "\n",
    "# visualize the original image and mask side by side\n",
    "fig, ax = plt.subplots(1, 2, figsize = (12, 6))\n",
    "ax[0].imshow(sample, vmin = low, vmax = top)\n",
    "# note that the mask is a binary image with only 0's and 1's, so no need to add vmin or vmax\n",
    "ax[1].imshow(sample_manual_mask)"
   ]
  },
  {
   "cell_type": "markdown",
   "metadata": {},
   "source": [
    "### Method 2: Automatically figure out an intensity threshold using built-in functions\n",
    "\n",
    "As you can imagine, manually determine an intensity threshold for hundreds of images in a time-lapse or z-stack will be extremely inefficient! Fortunately, python has some built-in functions that will allow us to threshold much faster! Here, we will demonstrate one of the methods called Otsu's method. To checkout other thresholding methods, see the link: http://scikit-image.org/docs/dev/api/skimage.filters.html"
   ]
  },
  {
   "cell_type": "code",
   "execution_count": 19,
   "metadata": {},
   "outputs": [],
   "source": [
    "# Use Otsu's method to determine the intensity threshold\n",
    "otsu_thresh = filters.threshold_otsu(sample)\n",
    "print(\"The Otsu's intensity threshold is: \", otsu_thresh)"
   ]
  },
  {
   "cell_type": "code",
   "execution_count": 20,
   "metadata": {},
   "outputs": [],
   "source": [
    "# Does Otsu's threshold make sense? We can check it on the histogram\n",
    "# plot histogram\n",
    "plt.figure(figsize = (12, 6))\n",
    "sns.distplot(sample_array, kde = False)\n",
    "# overlay the Otsu's threshold\n",
    "plt.axvline(otsu_thresh, ls = '--', lw = 2, c = 'r', label = 'Otsu threshold')\n",
    "# overlay the manual threshold\n",
    "plt.axvline(manual_thresh, ls = '--', lw = 2, c = 'g', label = 'Manual threshold')\n",
    "# change x limit to zoom in on the plot\n",
    "plt.gca().set_xlim([0, 21000])\n",
    "# label axes\n",
    "plt.xlabel('Intenisty per pixel', fontsize = 20)\n",
    "plt.ylabel('Counts', fontsize = 20)\n",
    "# plot legend\n",
    "plt.legend(fontsize = 30)"
   ]
  },
  {
   "cell_type": "code",
   "execution_count": 21,
   "metadata": {},
   "outputs": [],
   "source": [
    "# create a binary mask using Otsu's threshold\n",
    "sample_otsu_mask = sample > otsu_thresh\n",
    "\n",
    "# visualize the original image, manual mask, and otsu mask side by side\n",
    "fig, ax = plt.subplots(1, 3, figsize = (18, 6))\n",
    "ax[0].imshow(sample, vmin = low, vmax = top)\n",
    "ax[0].set_title('original', fontsize = 30)\n",
    "ax[1].imshow(sample_manual_mask)\n",
    "ax[1].set_title('manual', fontsize = 30)\n",
    "ax[2].imshow(sample_otsu_mask)\n",
    "ax[2].set_title('otsu', fontsize = 30)"
   ]
  },
  {
   "cell_type": "code",
   "execution_count": 22,
   "metadata": {},
   "outputs": [],
   "source": [
    "# In fact, the yen's thresholding method is much better after some try-outs\n",
    "# Use Yen's method to determine the intensity threshold\n",
    "yen_thresh = filters.threshold_yen(sample)\n",
    "print(\"The Yen's intensity threshold is: \", yen_thresh)\n",
    "\n",
    "# Check Yen's thresholding value on the histogram\n",
    "# plot histogram\n",
    "plt.figure(figsize = (12, 6))\n",
    "sns.distplot(sample_array, kde = False)\n",
    "# overlay the manual threshold\n",
    "plt.axvline(manual_thresh, ls = '--', lw = 2, c = 'g', label = 'Manual threshold')\n",
    "# overlay the Otsu's threshold\n",
    "plt.axvline(otsu_thresh, ls = '--', lw = 2, c = 'r', label = 'Otsu threshold')\n",
    "# overlay the Yen's threshold\n",
    "plt.axvline(yen_thresh, ls = '--', lw = 2, c = 'b', label = 'Yen threshold')\n",
    "# change x limit to zoom in on the plot\n",
    "plt.gca().set_xlim([0, 21000])\n",
    "# label axes\n",
    "plt.xlabel('Intenisty per pixel', fontsize = 20)\n",
    "plt.ylabel('Counts', fontsize = 20)\n",
    "# plot legend\n",
    "plt.legend(fontsize = 30)"
   ]
  },
  {
   "cell_type": "code",
   "execution_count": 23,
   "metadata": {},
   "outputs": [],
   "source": [
    "# create a binary mask using Yen's threshold\n",
    "sample_yen_mask = sample > yen_thresh\n",
    "\n",
    "# visualize the original image and mask side by side\n",
    "fig, ax = plt.subplots(1, 3, figsize = (18, 6))\n",
    "ax[0].imshow(sample, vmin = low, vmax = top)\n",
    "ax[0].set_title('original', fontsize = 30)\n",
    "ax[1].imshow(sample_otsu_mask)\n",
    "ax[1].set_title('otsu', fontsize = 30)\n",
    "ax[2].imshow(sample_yen_mask)\n",
    "ax[2].set_title('yen', fontsize = 30)"
   ]
  },
  {
   "cell_type": "markdown",
   "metadata": {},
   "source": [
    "### Apply built-in intensity thresholding methods to the whole image set"
   ]
  },
  {
   "cell_type": "code",
   "execution_count": 24,
   "metadata": {
    "collapsed": true
   },
   "outputs": [],
   "source": [
    "# initialize an empty dictionary to store masks for different channels\n",
    "drug_masks = {}\n",
    "nodrug_masks = {}\n",
    "\n",
    "# loop through each channel\n",
    "for channel in channels_of_interest:\n",
    "    \n",
    "    # copy filtered image\n",
    "    filtered_drug = clean_drug[channel].copy()\n",
    "    filtered_nodrug = clean_nodrug[channel].copy()\n",
    "    \n",
    "    # autothreshold using Yen's method\n",
    "    yen_thresh_drug = filters.threshold_yen(filtered_drug)\n",
    "    yen_thresh_nodrug = filters.threshold_yen(filtered_nodrug)\n",
    "    \n",
    "    # create a binary mask\n",
    "    masked_drug = filtered_drug > yen_thresh_drug\n",
    "    masked_nodrug = filtered_nodrug > yen_thresh_nodrug\n",
    "\n",
    "    # fill in dict\n",
    "    drug_masks[channel] = masked_drug\n",
    "    nodrug_masks[channel] = masked_nodrug"
   ]
  },
  {
   "cell_type": "code",
   "execution_count": 25,
   "metadata": {},
   "outputs": [],
   "source": [
    "# let's now view our processed images and masks side by side\n",
    "# set channel to view\n",
    "# ch = \"nucleus\"\n",
    "ch = \"actin\"\n",
    "fig, ax = plt.subplots(1, 2, figsize = (12, 6))\n",
    "ax[0].imshow(clean_nodrug[ch], vmin = low, vmax = top)\n",
    "ax[1].imshow(nodrug_masks[ch])\n",
    "fig.suptitle('Before Drug', fontsize = 30)\n",
    "\n",
    "fig, ax = plt.subplots(1, 2, figsize=(12, 6))\n",
    "ax[0].imshow(clean_drug[ch], vmin = low, vmax = top)\n",
    "ax[1].imshow(drug_masks[ch])\n",
    "fig.suptitle('After Drug', fontsize = 30)"
   ]
  },
  {
   "cell_type": "markdown",
   "metadata": {},
   "source": [
    "## Step 6: Optimize the mask using morphological operations"
   ]
  },
  {
   "cell_type": "markdown",
   "metadata": {},
   "source": [
    "## Reminder:\n",
    "**Hypothesis: Treatment with drug A will cause a decrease in the total amount of protein Y.** \n",
    "\n",
    "Our end goal is to quantify yfp before and after treatment in nucleus vs. cytoplasm seperatly. \n",
    "Questions: \n",
    "\n",
    "1) Does the *total* amount of yfp per cell change with drug treatment and \n",
    "\n",
    "2) How does the localization of yfp change between the nucleus and the cytoplasm? \n",
    "\n",
    "**Morphological Operations and Why:**\n",
    "\n",
    "Background - https://www.cs.auckland.ac.nz/courses/compsci773s1c/lectures/ImageProcessing-html/topic4.htm\n",
    "\n",
    "Documentation: http://scikit-image.org/docs/dev/api/skimage.morphology.html\n",
    "\n",
    "Use to clean up image, minimize noise in image and create nice fitted masks.\n",
    "\n",
    "**What are we doing:** \n",
    "Let's try to isloate the cells with a cleaned-up mask"
   ]
  },
  {
   "cell_type": "code",
   "execution_count": 26,
   "metadata": {
    "collapsed": true
   },
   "outputs": [],
   "source": [
    "# import more useful libraries\n",
    "import skimage.morphology as sm"
   ]
  },
  {
   "cell_type": "code",
   "execution_count": 27,
   "metadata": {
    "collapsed": true
   },
   "outputs": [],
   "source": [
    "# initialize empty dicts to store refined masks\n",
    "refined_drug_masks = {}\n",
    "refined_nodrug_masks = {}\n",
    "\n",
    "# loop through each channel\n",
    "for channel in channels_of_interest:\n",
    "    \n",
    "    # copy original mask\n",
    "    drug_mask = drug_masks[channel].copy()\n",
    "    nodrug_mask = nodrug_masks[channel].copy()\n",
    "    \n",
    "    # close and then open holes\n",
    "    # drug\n",
    "    drug_morph1 = sm.binary_closing(drug_mask,sm.disk(3))\n",
    "    drug_morph2 = sm.binary_opening(drug_morph1,sm.disk(3))\n",
    "    drug_morph3 = sm.remove_small_objects(drug_morph2, 300)\n",
    "    # no drug\n",
    "    nodrug_morph1 = sm.binary_closing(nodrug_mask,sm.disk(3))\n",
    "    nodrug_morph2 = sm.binary_opening(nodrug_morph1,sm.disk(3))\n",
    "    nodrug_morph3 = sm.remove_small_objects(nodrug_morph2, 300)\n",
    "    \n",
    "    # fill in dicts\n",
    "    refined_drug_masks[channel] = drug_morph3\n",
    "    refined_nodrug_masks[channel] = nodrug_morph3"
   ]
  },
  {
   "cell_type": "code",
   "execution_count": 28,
   "metadata": {},
   "outputs": [],
   "source": [
    "# let's now view our processed images, original masks, and improved masks side by side\n",
    "# set channel to view\n",
    "# ch = \"nucleus\"\n",
    "ch = \"actin\"\n",
    "fig, ax = plt.subplots(1, 3, figsize = (18, 6))\n",
    "ax[0].imshow(clean_nodrug[ch], vmin = low, vmax = top)\n",
    "ax[0].set_title('original image', fontsize = 20)\n",
    "ax[1].imshow(nodrug_masks[ch])\n",
    "ax[1].set_title('original mask', fontsize = 20)\n",
    "ax[2].imshow(refined_nodrug_masks[ch])\n",
    "ax[2].set_title('improved mask', fontsize = 20)\n",
    "fig.suptitle('Before Drug', fontsize = 30)\n",
    "\n",
    "fig, ax = plt.subplots(1, 3, figsize=(18, 6))\n",
    "ax[0].imshow(clean_drug[ch], vmin = low, vmax = top)\n",
    "ax[0].set_title('original image', fontsize = 20)\n",
    "ax[1].imshow(drug_masks[ch])\n",
    "ax[1].set_title('original mask', fontsize = 20)\n",
    "ax[2].imshow(refined_drug_masks[ch])\n",
    "ax[2].set_title('improved mask', fontsize = 20)\n",
    "fig.suptitle('After Drug', fontsize = 30)"
   ]
  },
  {
   "cell_type": "markdown",
   "metadata": {},
   "source": [
    "## Step 7: Quantify intensity of yfp both in nucleus and cytoplasm"
   ]
  },
  {
   "cell_type": "markdown",
   "metadata": {},
   "source": [
    "### What are we doing:\n",
    "1. Isolate nucleus \n",
    "2. Average signal intensity in cytoplasm vs. nucleus."
   ]
  },
  {
   "cell_type": "code",
   "execution_count": 29,
   "metadata": {
    "collapsed": true
   },
   "outputs": [],
   "source": [
    "# Add another key in the mask dict for a \"cell body\" mask that represents the cytoplasm\n",
    "# ^ is essentially a minus sign, used in binary operations\n",
    "refined_drug_masks['cell_body'] = refined_drug_masks['actin'] ^ refined_drug_masks['nucleus']\n",
    "refined_nodrug_masks['cell_body'] = refined_nodrug_masks['actin'] ^ refined_nodrug_masks['nucleus']"
   ]
  },
  {
   "cell_type": "code",
   "execution_count": 30,
   "metadata": {},
   "outputs": [],
   "source": [
    "# let's visualize all of the channels in the masks\n",
    "fig, ax = plt.subplots(1, 3, figsize = (18, 6))\n",
    "ax[0].imshow(refined_nodrug_masks['nucleus'])\n",
    "ax[0].set_title('nucleus', fontsize = 20)\n",
    "ax[1].imshow(refined_nodrug_masks['actin'])\n",
    "ax[1].set_title('actin', fontsize = 20)\n",
    "ax[2].imshow(refined_nodrug_masks['cell_body'])\n",
    "ax[2].set_title('cell body', fontsize = 20)\n",
    "fig.suptitle('Before Drug', fontsize = 30)\n",
    "\n",
    "fig, ax = plt.subplots(1, 3, figsize = (18, 6))\n",
    "ax[0].imshow(refined_drug_masks['nucleus'])\n",
    "ax[0].set_title('nucleus', fontsize = 20)\n",
    "ax[1].imshow(refined_drug_masks['actin'])\n",
    "ax[1].set_title('actin', fontsize = 20)\n",
    "ax[2].imshow(refined_drug_masks['cell_body'])\n",
    "ax[2].set_title('cell body', fontsize = 20)\n",
    "fig.suptitle('After Drug', fontsize = 30)"
   ]
  },
  {
   "cell_type": "code",
   "execution_count": 31,
   "metadata": {
    "collapsed": true
   },
   "outputs": [],
   "source": [
    "# let's calculate a mean nuclear and cytoplasmic intensities of yfp. For this, we'll apply our masks to the image of interest.\n",
    "yfp_drug = drug_slice['your_fav_protein']\n",
    "yfp_nodrug = nodrug_slice['your_fav_protein']\n",
    "\n",
    "# extract nucleus and cell body masks\n",
    "nucleus_drug = refined_drug_masks['nucleus'].copy()\n",
    "cell_body_drug = refined_drug_masks['cell_body'].copy()\n",
    "cell_whole_drug = refined_drug_masks['actin'].copy()\n",
    "\n",
    "nucleus_nodrug = refined_nodrug_masks['nucleus'].copy()\n",
    "cell_body_nodrug = refined_nodrug_masks['cell_body'].copy()\n",
    "cell_whole_nodrug = refined_nodrug_masks['actin'].copy()\n",
    "\n",
    "# get nuclear intensities\n",
    "# drug\n",
    "nuclear_intensities_drug = yfp_drug.copy()\n",
    "nuclear_intensities_drug[~nucleus_drug] = 0\n",
    "# no drug\n",
    "nuclear_intensities_nodrug = yfp_nodrug.copy()\n",
    "nuclear_intensities_nodrug[~nucleus_nodrug] = 0\n",
    "\n",
    "# get cytoplasmic intensities\n",
    "# drug\n",
    "cytoplasmic_intensities_drug = yfp_drug.copy()\n",
    "cytoplasmic_intensities_drug[~cell_body_drug] = 0\n",
    "# no drug\n",
    "cytoplasmic_intensities_nodrug = yfp_nodrug.copy()\n",
    "cytoplasmic_intensities_nodrug[~cell_body_nodrug] = 0\n",
    "\n",
    "# get whole cell intensities\n",
    "# drug\n",
    "cell_intensities_drug = yfp_drug.copy()\n",
    "cell_intensities_drug[~cell_whole_drug] = 0\n",
    "# no drug\n",
    "cell_intensities_nodrug = yfp_nodrug.copy()\n",
    "cell_intensities_nodrug[~cell_whole_nodrug] = 0"
   ]
  },
  {
   "cell_type": "code",
   "execution_count": 32,
   "metadata": {},
   "outputs": [],
   "source": [
    "# visualize the intensities\n",
    "fig, ax = plt.subplots(1, 3, figsize=(15, 5))\n",
    "ax[0].imshow(nuclear_intensities_nodrug)\n",
    "ax[0].set_title('nucleus', fontsize = 20)\n",
    "ax[1].imshow(cytoplasmic_intensities_nodrug)\n",
    "ax[1].set_title('cytoplasm', fontsize = 20)\n",
    "ax[2].imshow(cell_intensities_nodrug)\n",
    "ax[2].set_title('cell', fontsize = 20)\n",
    "plt.suptitle('Before Drug', fontsize = 30)\n",
    "\n",
    "fig, ax = plt.subplots(1, 3, figsize=(15, 5))\n",
    "ax[0].imshow(nuclear_intensities_drug)\n",
    "ax[0].set_title('nucleus', fontsize = 20)\n",
    "ax[1].imshow(cytoplasmic_intensities_drug)\n",
    "ax[1].set_title('cytoplasm', fontsize = 20)\n",
    "ax[2].imshow(cell_intensities_drug)\n",
    "ax[2].set_title('cell', fontsize = 20)\n",
    "plt.suptitle('After Drug', fontsize = 30)"
   ]
  },
  {
   "cell_type": "code",
   "execution_count": 33,
   "metadata": {},
   "outputs": [],
   "source": [
    "# We can now easily calculate the mean nuclear and cytoplasmic intensities before and after drug treatment.\n",
    "\n",
    "# collapse 2D image to 1D array\n",
    "nuclear_array_nodrug = nuclear_intensities_nodrug[nuclear_intensities_nodrug > 0].flatten()\n",
    "nuclear_array_drug = nuclear_intensities_drug[nuclear_intensities_drug > 0].flatten()\n",
    "cytoplasmic_array_nodrug = cytoplasmic_intensities_nodrug[cytoplasmic_intensities_nodrug > 0].flatten()\n",
    "cytoplasmic_array_drug = cytoplasmic_intensities_drug[cytoplasmic_intensities_drug > 0].flatten()\n",
    "cell_array_nodrug = cell_intensities_nodrug[cell_intensities_nodrug > 0].flatten()\n",
    "cell_array_drug = cell_intensities_drug[cell_intensities_drug > 0].flatten()\n",
    "\n",
    "# plot histogram before drug\n",
    "plt.figure(figsize = (12, 6))\n",
    "sns.distplot(nuclear_array_nodrug, kde=True, label='nuclear')\n",
    "sns.distplot(cytoplasmic_array_nodrug, kde=True, label='cytoplasmic')\n",
    "# sns.distplot(cell_array_nodrug, kde=True, label='cell')\n",
    "\n",
    "plt.legend(fontsize = 20)\n",
    "plt.title('Before Drug', fontsize = 30)\n",
    "\n",
    "# plot histogram after drug\n",
    "plt.figure(figsize = (12, 6))\n",
    "sns.distplot(nuclear_array_drug, kde=True, label='nuclear')\n",
    "sns.distplot(cytoplasmic_array_drug, kde=True, label='cytoplasmic')\n",
    "# sns.distplot(cell_array_drug, kde=True, label='cell')\n",
    "\n",
    "plt.legend(fontsize = 20)\n",
    "plt.title('After Drug', fontsize = 30)\n",
    "\n",
    "print(\"The average nuclear intensity before drug treatment is: {0:.2f} AU\".format(np.mean(nuclear_array_nodrug)))\n",
    "print(\"The average cytoplasmic intensity before drug treatment is: {0:.2f} AU.\".format(np.mean(cytoplasmic_array_nodrug)))\n",
    "print(\"The average cell intensity before drug treatment is: {0:.2f} AU.\".format(np.mean(cell_array_nodrug)))\n",
    "\n",
    "print(\"The average nuclear intensity after drug treatment is: {0:.2f} AU\".format(np.mean(nuclear_array_drug)))\n",
    "print(\"The average cytoplasmic intensity after drug treatment is: {0:.2f} AU.\".format(np.mean(cytoplasmic_array_drug)))\n",
    "print(\"The average cell intensity after drug treatment is: {0:.2f} AU.\".format(np.mean(cell_array_drug)))"
   ]
  },
  {
   "cell_type": "markdown",
   "metadata": {},
   "source": [
    "# Challenge: Is there a change in the intensities after drug treatment? Was our hypothesis about the drug true or false? Recall our hypothesis: Treatment with drug A will cause a decrease in the total amount of protein Y."
   ]
  },
  {
   "cell_type": "markdown",
   "metadata": {},
   "source": [
    "It's interesting to see that there is a bimodal distribution of nuclear intensities before drug treatment. Caution: the mean cytoplasmic intensity printed out from the previous cell is thus not the Gaussian mean of the two peaks!\n",
    "\n",
    "Both the mean nuclear intensity of the protein and the cytoplasmic intensity decreased after drug treatment, suggesting that our hypothesis is true."
   ]
  },
  {
   "cell_type": "code",
   "execution_count": null,
   "metadata": {
    "collapsed": true
   },
   "outputs": [],
   "source": []
  }
 ],
 "metadata": {
  "anaconda-cloud": {},
  "kernelspec": {
   "display_name": "Python 3",
   "language": "python",
   "name": "python3"
  },
  "language_info": {
   "codemirror_mode": {
    "name": "ipython",
    "version": 3
   },
   "file_extension": ".py",
   "mimetype": "text/x-python",
   "name": "python",
   "nbconvert_exporter": "python",
   "pygments_lexer": "ipython3",
   "version": "3.6.1"
  }
 },
 "nbformat": 4,
 "nbformat_minor": 1
}
