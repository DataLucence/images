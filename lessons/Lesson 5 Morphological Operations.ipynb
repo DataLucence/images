{
 "cells": [
  {
   "cell_type": "markdown",
   "metadata": {},
   "source": [
    "# Lesson 5: Morphological Operations\n",
    "\n",
    "You now know how to find objects of interest in an image and produce masks which correspond to these objects. Up until now, we've relied on good image preprocessing to produce quality masks. Now we will talk about morphological operations, which instead focus on making improvements to the masks directly.\n",
    "\n",
    "In this module you will learn\n",
    "- What is a morphological operation\n",
    "- How to choose the right parameters for your morphological operation\n",
    "- Some common morphological operations\n",
    "    - Erosion\n",
    "    - Dilation\n",
    "    - Opening\n",
    "    - Closing\n",
    "- How to perform various morphological operations in series\n",
    "- What other morphological functions exist in the Scikit Image package\n",
    "- To be mindful of the effect of successive morphological operations on the information content of your images"
   ]
  },
  {
   "cell_type": "code",
   "execution_count": null,
   "metadata": {
    "collapsed": true
   },
   "outputs": [],
   "source": [
    "%matplotlib inline\n",
    "\n",
    "import numpy as np\n",
    "import matplotlib.pyplot as plt\n",
    "import seaborn as sns\n",
    "\n",
    "sns.set_style('dark') # make plots look good"
   ]
  },
  {
   "cell_type": "markdown",
   "metadata": {},
   "source": [
    "Let's pull up a mask we're familiar with"
   ]
  },
  {
   "cell_type": "code",
   "execution_count": null,
   "metadata": {},
   "outputs": [],
   "source": [
    "from skimage.io import imread\n",
    "\n",
    "data = imread(\"../data/cells2d.tif\")\n",
    "img = data[:,:,2]\n",
    "plt.imshow(img, cmap='gray')"
   ]
  },
  {
   "cell_type": "code",
   "execution_count": null,
   "metadata": {},
   "outputs": [],
   "source": [
    "from skimage.filters import threshold_otsu\n",
    "\n",
    "mask = img > threshold_otsu(img)\n",
    "plt.imshow(mask[:400,:400], cmap='gray')"
   ]
  },
  {
   "cell_type": "markdown",
   "metadata": {},
   "source": [
    "Notice how the edges are fuzzy. In some cases, a few pixels are missing from the middle of an object, leaving a hole. In other cases, isolated pixels in the mask might be identified by later processing as individual objects, cells, etc. This mask needs to be cleaned!\n",
    "\n",
    "There are two very simple approaches we'll start with. One is called _erosion_, where pixels at the edge of the mask are eroded away. It's counterpart is _dilation_, where pixels at the edge grow outward. These algorithms can be implemented by going pixel-by-pixel and making changes to that pixel's local neighborhood.\n",
    "\n",
    "The basic _morphological operations_ require two things to work: a mask and a structuring element. For each pixel, the structuring element is applied to the local neighborhood. Let's look at an example.\n",
    "\n",
    "Imagine zooming way into the edge of a mask, and consider how a structuring element might be applied to a single pixel in a dilate operation."
   ]
  },
  {
   "cell_type": "code",
   "execution_count": null,
   "metadata": {},
   "outputs": [],
   "source": [
    "small_mask = np.array([[1, 0, 1, 0, 0],\n",
    "                       [1, 1, 0, 0, 0],\n",
    "                       [1, 1, 1, 0, 0],\n",
    "                       [1, 1, 1, 0, 0],\n",
    "                       [1, 1, 1, 1, 1]])\n",
    "plt.gca().add_patch(plt.Rectangle((1.5, 1.5), 1, 1, fill=None, color='r', lw=5))\n",
    "plt.imshow(small_mask, interpolation='nearest')"
   ]
  },
  {
   "cell_type": "markdown",
   "metadata": {},
   "source": [
    "Let's observe what happens if we dilate with the structuring element below."
   ]
  },
  {
   "cell_type": "code",
   "execution_count": null,
   "metadata": {},
   "outputs": [],
   "source": [
    "selem = np.array([[0, 1, 0],\n",
    "                  [1, 1, 1],\n",
    "                  [0, 1, 0]])\n",
    "plt.imshow(selem, interpolation='nearest')"
   ]
  },
  {
   "cell_type": "code",
   "execution_count": null,
   "metadata": {},
   "outputs": [],
   "source": [
    "padded_selem = np.pad(selem, 1, 'constant')\n",
    "fig, ax = plt.subplots(1, 4, figsize=(16, 4))\n",
    "ax[0].imshow(small_mask, interpolation='nearest')\n",
    "ax[0].set_title(\"Original\")\n",
    "ax[1].imshow(padded_selem, interpolation='nearest')\n",
    "ax[1].set_title(\"Structuring element\")\n",
    "ax[2].imshow(small_mask | padded_selem, interpolation='nearest')\n",
    "ax[2].set_title(\"After dilating\")\n",
    "ax[3].imshow(small_mask < padded_selem, interpolation='nearest')\n",
    "ax[3].set_title(\"New pixels added to mask\")"
   ]
  },
  {
   "cell_type": "markdown",
   "metadata": {},
   "source": [
    "We would then continue to apply the dilation to every pixel in the mask, causing its borders to grow. `skimage` has a function for that."
   ]
  },
  {
   "cell_type": "code",
   "execution_count": null,
   "metadata": {
    "collapsed": true
   },
   "outputs": [],
   "source": [
    "from skimage.morphology import binary_dilation"
   ]
  },
  {
   "cell_type": "markdown",
   "metadata": {},
   "source": [
    "`scikit-image` calls this \"binary\" because masks are either 1 (in the mask) or 0 (not in the mask). There is also general erosion, which propagates pixel values instead of 1s and 0s. It would be applied to images rather than masks, and is generally less useful."
   ]
  },
  {
   "cell_type": "code",
   "execution_count": null,
   "metadata": {},
   "outputs": [],
   "source": [
    "plt.imshow(binary_dilation(small_mask, selem), interpolation='nearest')"
   ]
  },
  {
   "cell_type": "markdown",
   "metadata": {},
   "source": [
    "We can make the growth more dramatic by expanding the structuring element."
   ]
  },
  {
   "cell_type": "code",
   "execution_count": null,
   "metadata": {},
   "outputs": [],
   "source": [
    "big_selem = np.array([[0, 0, 1, 0, 0],\n",
    "                      [0, 0, 1, 0, 0],\n",
    "                      [1, 1, 1, 1, 1],\n",
    "                      [0, 0, 1, 0, 0],\n",
    "                      [0, 0, 1, 0, 0]])\n",
    "plt.imshow(binary_dilation(small_mask, big_selem), interpolation='nearest')"
   ]
  },
  {
   "cell_type": "markdown",
   "metadata": {},
   "source": [
    "You have total freedom to choose any structuring element you want, but generally simple symmetric shapes are used because their effects are intuitive. In fact, we can let `scikit-image` generate reasonable structuring elements for us! This is a good idea to maximize repeatability."
   ]
  },
  {
   "cell_type": "code",
   "execution_count": null,
   "metadata": {},
   "outputs": [],
   "source": [
    "from skimage.morphology import disk\n",
    "\n",
    "with sns.axes_style('white'):\n",
    "    N = 5\n",
    "    fig, axes = plt.subplots(1, N, figsize=(16, 3))\n",
    "    for n, ax in enumerate(axes):\n",
    "        np1 = n + 1\n",
    "        ax.imshow(np.pad(disk(np1), N-n, 'constant'), interpolation='nearest')\n",
    "        c = plt.Circle((np1 + N - n, np1 + N - n), radius=np1, fill=False, lw=4, color='r')\n",
    "        ax.add_artist(c)\n",
    "        ax.set_xlim(0, 2 * N + 2)\n",
    "        ax.set_ylim(0, 2 * N + 2)\n",
    "        ax.set_title(\"disk({})\".format(n))"
   ]
  },
  {
   "cell_type": "markdown",
   "metadata": {},
   "source": [
    "Here we demonstrate `disk` with different radius parameters. The circles of corresponding radius are superimposed."
   ]
  },
  {
   "cell_type": "markdown",
   "metadata": {},
   "source": [
    "**Exercise** Perform a binary _erosion_ of `small_mask` with a radius=1 `disk`. Can you guess what the function for erosion will be called?"
   ]
  },
  {
   "cell_type": "code",
   "execution_count": null,
   "metadata": {},
   "outputs": [],
   "source": [
    "from skimage.morphology import binary_erosion\n",
    "\n",
    "eroded_mask = binary_erosion(small_mask, disk(1))\n",
    "plt.imshow(eroded_mask, interpolation='nearest')"
   ]
  },
  {
   "cell_type": "markdown",
   "metadata": {},
   "source": [
    "This kind of thing can be very useful if you know the physical size of your pixels. For example, if you have $10\\mu m$-diameter cells and your pixels are $1\\mu m^2$, then eroding with `disk(4)` should remove any mask too small to be a cell!\n",
    "\n",
    "In general, morphological operations work best when the shape of the structuring element matches the shape of features you want to retain or remove. Let's look at an exmaple."
   ]
  },
  {
   "cell_type": "code",
   "execution_count": null,
   "metadata": {},
   "outputs": [],
   "source": [
    "from skimage.color import rgb2gray\n",
    "\n",
    "tictac_original = 1 - rgb2gray(imread('../data/tic_tac_toe.jpeg'))\n",
    "tictac = tictac_original > threshold_otsu(tictac_original)\n",
    "plt.imshow(tictac)"
   ]
  },
  {
   "cell_type": "markdown",
   "metadata": {},
   "source": [
    "Can you guess what happens when we erode with the following filter?"
   ]
  },
  {
   "cell_type": "code",
   "execution_count": null,
   "metadata": {},
   "outputs": [],
   "source": [
    "vline = np.zeros((7,7))\n",
    "vline[:,3] = 1\n",
    "plt.imshow(vline, interpolation='nearest')"
   ]
  },
  {
   "cell_type": "markdown",
   "metadata": {},
   "source": [
    "Let's find out."
   ]
  },
  {
   "cell_type": "code",
   "execution_count": null,
   "metadata": {},
   "outputs": [],
   "source": [
    "plt.imshow(binary_erosion(tictac, vline))"
   ]
  },
  {
   "cell_type": "markdown",
   "metadata": {},
   "source": [
    "Eroding with a vertical line caused vertical segments to be preserved! So imagine if you have something like 96 well plate which is also composed of vertical lines, horizontal lines, and circles, and you wanted to find where the rows were, this sort of thing might be helpful.\n",
    "\n",
    "**Exercise** What will happen if we apply dilation with a vertical line?"
   ]
  },
  {
   "cell_type": "code",
   "execution_count": null,
   "metadata": {},
   "outputs": [],
   "source": [
    "plt.imshow(binary_dilation(tictac, vline))"
   ]
  },
  {
   "cell_type": "markdown",
   "metadata": {},
   "source": [
    "Let's return to our original image mask and apply a dilation to fill in holes in cells."
   ]
  },
  {
   "cell_type": "code",
   "execution_count": null,
   "metadata": {},
   "outputs": [],
   "source": [
    "fig, ax = plt.subplots(1, 2, figsize=(8, 4))\n",
    "ax[0].imshow(mask)\n",
    "ax[0].set_title(\"Original\")\n",
    "ax[1].imshow(binary_dilation(mask, disk(10)))\n",
    "ax[1].set_title(\"Dilated\")"
   ]
  },
  {
   "cell_type": "markdown",
   "metadata": {},
   "source": [
    "That certainly filled in a lot of the holes. However it also expanded all of the small specks that we're not interested in. This hints at a more troubling problem with dilation: it always grows the mask; erosion always shrinks it. These are _biasing_ operations!\n",
    "\n",
    "To correct this, a common approach is to apply an erosion after a dilation or a dilation after an erosion.\n",
    "\n",
    "Contrary to your intuition, these don't negate each other. Consider a mask consisting of a single isolated pixel. After an erosion, it vanishes. A subsequent dilation does nothing, because no pixels belong to the mask."
   ]
  },
  {
   "cell_type": "markdown",
   "metadata": {},
   "source": [
    "**Exercise** Show what happens to holes in your mask if you dilate and then erode?"
   ]
  },
  {
   "cell_type": "code",
   "execution_count": null,
   "metadata": {},
   "outputs": [],
   "source": [
    "dilated = binary_dilation(mask, disk(5))\n",
    "eroded = binary_erosion(dilated, disk(5))\n",
    "plt.imshow(eroded)"
   ]
  },
  {
   "cell_type": "markdown",
   "metadata": {},
   "source": [
    "Holes remain closed, and edges are smoothed somewhat. This effect is so important that dilating then eroding is called _closing_ since it closes holes.\n",
    "\n",
    "- dilate + erose -> \"closing\"\n",
    "- erode + dilate -> \"opening\""
   ]
  },
  {
   "cell_type": "code",
   "execution_count": null,
   "metadata": {
    "collapsed": true
   },
   "outputs": [],
   "source": [
    "from skimage.morphology import binary_closing, binary_opening"
   ]
  },
  {
   "cell_type": "markdown",
   "metadata": {},
   "source": [
    "Note that we haven't solved our small speck problem with closing. So now let's do something really useful here. We will first close to fill holes, then open to remove specks."
   ]
  },
  {
   "cell_type": "code",
   "execution_count": null,
   "metadata": {},
   "outputs": [],
   "source": [
    "first_stage = binary_closing(mask, disk(15))\n",
    "second_stage = binary_opening(first_stage, disk(5))\n",
    "plt.imshow(second_stage)"
   ]
  },
  {
   "cell_type": "markdown",
   "metadata": {},
   "source": [
    "Remember that the more morphological operations you do, the farther away you get from the original image - you're slowly destroying information. Recall that closing works because erosion doesn't recover the origiinal image after a dilation. This is a general concept in computing known as the information processing inequality: each step in a series of processing steps either decreases the amount of information or leaves it the same; if this weren't true you could process an image more and more and never have to make a new measurement. We're OK with this, because we can use image processing to _extract_ information we want, removing information we don't.\n",
    "\n",
    "There are other morphological image processing tools as well. You can search for them in the `scikit` docs, or peak into the library programatically."
   ]
  },
  {
   "cell_type": "code",
   "execution_count": null,
   "metadata": {},
   "outputs": [],
   "source": [
    "import skimage.morphology\n",
    "print('\\n'.join(skimage.morphology.__all__))"
   ]
  },
  {
   "cell_type": "markdown",
   "metadata": {},
   "source": [
    "A final note on exploring libraries: developers building a Python library will specify an `__all__` variable, which tells applications using the library which functions they are supposed to see so that other utility functions can be defined behind the scenes in secret. We exploited the existance of the `__all__` variable here."
   ]
  }
 ],
 "metadata": {
  "kernelspec": {
   "display_name": "Python 3",
   "language": "python",
   "name": "python3"
  },
  "language_info": {
   "codemirror_mode": {
    "name": "ipython",
    "version": 3
   },
   "file_extension": ".py",
   "mimetype": "text/x-python",
   "name": "python",
   "nbconvert_exporter": "python",
   "pygments_lexer": "ipython3",
   "version": "3.6.1"
  }
 },
 "nbformat": 4,
 "nbformat_minor": 1
}
