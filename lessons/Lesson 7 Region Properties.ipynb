{
 "cells": [
  {
   "cell_type": "markdown",
   "metadata": {},
   "source": [
    "\n",
    "# Lesson 6: Quantifying Properties of Identified Regions or Cells\n",
    "\n",
    "We have learned to detect cells in digital images by making masks, and then applying those masks to measure properties of the entire image such as mean fluorescence intensity. Sometimes, it might also be useful to have an idea of how these properties vary from cell to cell. Today, we'll learn how to identify (and measure attributes of) several different regions of interest at once.\n",
    "\n",
    "We will\n",
    "- Review how to detect cells by developing a pipeline to do so\n",
    "- Access properties of cells that have been detected, such as\n",
    "    - Area\n",
    "    - Intensity\n",
    "    - Image vs mask properties\n",
    "    - Measures of roundness\n",
    "        - Aspect ratio\n",
    "        - Convexity\n",
    "- View the statistics of properties of detected cells\n",
    "- Filter out unwanted cells based on their properties"
   ]
  },
  {
   "cell_type": "code",
   "execution_count": null,
   "metadata": {
    "collapsed": true
   },
   "outputs": [],
   "source": [
    "%matplotlib inline\n",
    "\n",
    "import numpy as np\n",
    "import matplotlib.pyplot as plt\n",
    "import seaborn as sns\n",
    "from skimage.io import imread\n",
    "\n",
    "sns.set_style('dark')"
   ]
  },
  {
   "cell_type": "markdown",
   "metadata": {},
   "source": [
    "## Review Segmentation\n",
    "\n",
    "We will begin with a new dataset: a single still frame from a movie of neurons expressing a calcium indicating fluorophore, GCaMP6f. The cells are on a coverslip and do not move, so it is sufficient to locate them in just one frame. Although neurons have long thin dendrites, in our case we are interested in the activity at the soma. The goal, then, is to come up with a list of masks that cover the cell bodies."
   ]
  },
  {
   "cell_type": "code",
   "execution_count": null,
   "metadata": {
    "collapsed": true
   },
   "outputs": [],
   "source": [
    "raw = imread('../data/neurons10x.tif')\n",
    "plt.imshow(raw, cmap='inferno')"
   ]
  },
  {
   "cell_type": "markdown",
   "metadata": {},
   "source": [
    "**Exercise** Thinking of the tools we already have at our disposal, what are some features of this image that we need to act on before attempting to find cells. "
   ]
  },
  {
   "cell_type": "markdown",
   "metadata": {},
   "source": [
    "The cells are brighter than their background. We can use thresholding to find them. However, there is uneven background, which will expand cells in the middle and shrink them at the periphery. Let's remove the background with a rolling ball, or min-filter."
   ]
  },
  {
   "cell_type": "code",
   "execution_count": null,
   "metadata": {
    "collapsed": true
   },
   "outputs": [],
   "source": [
    "from skimage.morphology import disk\n",
    "from skimage.filters.rank import minimum as min_filter\n",
    "\n",
    "structuring_element = disk(51)\n",
    "background = min_filter(raw, structuring_element)"
   ]
  },
  {
   "cell_type": "markdown",
   "metadata": {},
   "source": [
    "View the background. It should look fairly smooth."
   ]
  },
  {
   "cell_type": "code",
   "execution_count": null,
   "metadata": {
    "collapsed": true
   },
   "outputs": [],
   "source": [
    "plt.imshow(background, cmap='inferno')"
   ]
  },
  {
   "cell_type": "markdown",
   "metadata": {},
   "source": [
    "Now we subtract the background."
   ]
  },
  {
   "cell_type": "code",
   "execution_count": null,
   "metadata": {
    "collapsed": true
   },
   "outputs": [],
   "source": [
    "bg_subtracted = raw - background\n",
    "plt.imshow(bg_subtracted, cmap='inferno')"
   ]
  },
  {
   "cell_type": "markdown",
   "metadata": {},
   "source": [
    "And finally apply a threshold. We will use Otsu's method to set the threshold automatically."
   ]
  },
  {
   "cell_type": "code",
   "execution_count": null,
   "metadata": {
    "collapsed": true
   },
   "outputs": [],
   "source": [
    "from skimage.filters import threshold_otsu\n",
    "\n",
    "threshold = threshold_otsu(bg_subtracted)\n",
    "foreground = bg_subtracted > threshold\n",
    "\n",
    "plt.imshow(foreground, cmap='gray')"
   ]
  },
  {
   "cell_type": "markdown",
   "metadata": {},
   "source": [
    "## Properties of Regions"
   ]
  },
  {
   "cell_type": "markdown",
   "metadata": {},
   "source": [
    "The image segments into many small, well-separated cells.\n",
    "\n",
    "Now we need a way of isolating each cell. Recall that the image above is a binary mask:\n",
    "\n",
    "- 1 = foreground\n",
    "- 0 = background\n",
    "\n",
    "Our goal is to make a new image where each pixel gets a number corresponding to the cell it belongs to, or 0 if it's background. How might we do this?"
   ]
  },
  {
   "cell_type": "markdown",
   "metadata": {},
   "source": [
    "One way would be to look for a pixel of value 1 and assign it a number. Then visit its neighbors and, if their value is 1, assign the neighbor the same number and repeat on _its_ neighbors. Rather than code this up ourselves, sckit-image supplies us with the function `label`."
   ]
  },
  {
   "cell_type": "code",
   "execution_count": null,
   "metadata": {
    "collapsed": true
   },
   "outputs": [],
   "source": [
    "from skimage.measure import label"
   ]
  },
  {
   "cell_type": "code",
   "execution_count": null,
   "metadata": {
    "collapsed": true
   },
   "outputs": [],
   "source": [
    "cell_labels = label(foreground)\n",
    "plt.imshow(cell_labels, cmap='Set1',vmin=0,vmax=cell_labels.max())"
   ]
  },
  {
   "cell_type": "markdown",
   "metadata": {},
   "source": [
    "If we zoom in on a subset of the nuclei and look directly at the array, we see that the different color labels correspond to connected values within the array."
   ]
  },
  {
   "cell_type": "code",
   "execution_count": null,
   "metadata": {
    "collapsed": true
   },
   "outputs": [],
   "source": [
    "#fig, ax = plt.subplots(1, 2, figsize=(16, 4))\n",
    "cropXmin = 105\n",
    "cropYmin = 260\n",
    "crop_size = 15\n",
    "cropXmax = cropXmin + crop_size\n",
    "cropYmax = cropYmin + crop_size\n",
    "\n",
    "plt.imshow(cell_labels[cropYmin:cropYmax, cropXmin:cropXmax],cmap='Set1',vmin=0,vmax=cell_labels.max(),interpolation='nearest')\n",
    "\n",
    "cell_labels[cropYmin:cropYmax, cropXmin:cropXmax]"
   ]
  },
  {
   "cell_type": "markdown",
   "metadata": {},
   "source": [
    "Each cell is now shown in a slightly different color on a red-colored background. Now we would like to make a list of each of these cells with their masks and some information about them. Again scikit-images helps us."
   ]
  },
  {
   "cell_type": "code",
   "execution_count": null,
   "metadata": {
    "collapsed": true
   },
   "outputs": [],
   "source": [
    "from skimage.measure import regionprops\n",
    "\n",
    "#look at regionprops to see what the inputs are\n",
    "regionprops?"
   ]
  },
  {
   "cell_type": "code",
   "execution_count": null,
   "metadata": {
    "collapsed": true
   },
   "outputs": [],
   "source": [
    "props = regionprops(cell_labels, bg_subtracted)"
   ]
  },
  {
   "cell_type": "markdown",
   "metadata": {},
   "source": [
    "We give `regionprops` two arguments: the image of numerical labels and the original image with the background subtracted off. We need this second bit of information because some properties that `regionprops` gives us, like \"mean intensity\" depend on both the mask shape and the original image. Let's take a look at what the properties `regionprops` tells us first. We'll return to this important mask vs. original image distinction later."
   ]
  },
  {
   "cell_type": "markdown",
   "metadata": {},
   "source": [
    "*Exercise* Determine how the output `props` is organized."
   ]
  },
  {
   "cell_type": "code",
   "execution_count": null,
   "metadata": {
    "collapsed": true
   },
   "outputs": [],
   "source": [
    "props?"
   ]
  },
  {
   "cell_type": "code",
   "execution_count": null,
   "metadata": {
    "collapsed": true
   },
   "outputs": [],
   "source": [
    "props.shape\n",
    "#because props is a string, use len(props)"
   ]
  },
  {
   "cell_type": "code",
   "execution_count": null,
   "metadata": {
    "collapsed": true
   },
   "outputs": [],
   "source": [
    "len(props)"
   ]
  },
  {
   "cell_type": "markdown",
   "metadata": {},
   "source": [
    "What might the length of props mean? "
   ]
  },
  {
   "cell_type": "code",
   "execution_count": null,
   "metadata": {
    "collapsed": true
   },
   "outputs": [],
   "source": [
    "cell_labels.max()"
   ]
  },
  {
   "cell_type": "markdown",
   "metadata": {},
   "source": [
    "Each element of props corresponds to the labeled nuclei region. \n",
    "\n",
    "Let's visualize each labeled nucleus to have a sense of its location on the mask and its shape."
   ]
  },
  {
   "cell_type": "code",
   "execution_count": null,
   "metadata": {
    "collapsed": true
   },
   "outputs": [],
   "source": [
    "from ipywidgets import interactive\n",
    "\n",
    "@interactive\n",
    "def show_labeled_cells(label_index = list(range(cell_labels.max()))):\n",
    "    current_cell_labels = cell_labels == props[label_index].label\n",
    "    plt.imshow(current_cell_labels.astype(int), cmap='gray',vmin=0,vmax=1)\n",
    "    plt.title(\"Nucleus #{:d}\".format(label_index + 1))\n",
    "show_labeled_cells"
   ]
  },
  {
   "cell_type": "markdown",
   "metadata": {},
   "source": [
    "Let's look at the area of the first labeled nucleus."
   ]
  },
  {
   "cell_type": "code",
   "execution_count": null,
   "metadata": {
    "collapsed": true
   },
   "outputs": [],
   "source": [
    "props[0].area"
   ]
  },
  {
   "cell_type": "markdown",
   "metadata": {},
   "source": [
    "What about its mean pixel value?"
   ]
  },
  {
   "cell_type": "code",
   "execution_count": null,
   "metadata": {
    "collapsed": true
   },
   "outputs": [],
   "source": [
    "props[0].mean_intensity"
   ]
  },
  {
   "cell_type": "markdown",
   "metadata": {},
   "source": [
    "## Image vs. Mask Properties\n",
    "The area is a property of the mask: it's the total number of pixels in the mask (i.e. that have value 1). The mean intensity is a property of the image. If it was a property of the mask, it would always be between 0 and 1, since those are the only two values in the mask. This is fairly clear for these two examples, but sometimes the difference is subtle."
   ]
  },
  {
   "cell_type": "code",
   "execution_count": null,
   "metadata": {
    "collapsed": true
   },
   "outputs": [],
   "source": [
    "props[12].centroid"
   ]
  },
  {
   "cell_type": "code",
   "execution_count": null,
   "metadata": {
    "collapsed": true
   },
   "outputs": [],
   "source": [
    "props[12].weighted_centroid"
   ]
  },
  {
   "cell_type": "markdown",
   "metadata": {},
   "source": [
    "The centroid is just the center-of-mass of the mask, but the weighted centroid is the center-of-mass of the image. They are similar here because cell brightness values have good radial symmetry, but for more complicated objects these numbers differ meaningfully."
   ]
  },
  {
   "cell_type": "markdown",
   "metadata": {},
   "source": [
    "## Measures of Roundness\n",
    "\n",
    "We can use some of these properties to quality control our cell masks. One important quality is roundness - we want our cells to look round because we don't want to include dendrites in our analysis. There are a few ways to do this.\n",
    "\n",
    "- Look at the aspect ratio i.e. width:height. If this is nearly 1:1, then the mask should be round."
   ]
  },
  {
   "cell_type": "code",
   "execution_count": null,
   "metadata": {
    "collapsed": true
   },
   "outputs": [],
   "source": [
    "bounding_box = props[0].bbox\n",
    "aspect_ratio = 1. * (bounding_box[3] - bounding_box[1]) / (bounding_box[2] - bounding_box[0])\n",
    "print(aspect_ratio)"
   ]
  },
  {
   "cell_type": "markdown",
   "metadata": {},
   "source": [
    "**Exercise** Can you describe a situation where the aspect ratio is a bad metric?"
   ]
  },
  {
   "cell_type": "markdown",
   "metadata": {},
   "source": [
    "What about an \"X\"?\n",
    "\n",
    "**A better metric might be to check if the image is mostly convex.** We do can do this by taking the convex hull of the mask, which is the mask with pixels added until the mask is convex. If we didn't need to add many pixels, then the starting image was fairly convex.\n",
    "\n",
    "- Soliditity: ratio of area of mask to area of the mask's convex hull."
   ]
  },
  {
   "cell_type": "code",
   "execution_count": null,
   "metadata": {
    "collapsed": true
   },
   "outputs": [],
   "source": [
    "props[0].solidity"
   ]
  },
  {
   "cell_type": "markdown",
   "metadata": {},
   "source": [
    "However it's possible that a mask is convex, but elongated, making it a poor circle. But both metrics taken together may work nicely!"
   ]
  },
  {
   "cell_type": "code",
   "execution_count": null,
   "metadata": {
    "collapsed": true
   },
   "outputs": [],
   "source": [
    "def circleness(properties):\n",
    "    bounding_box = properties.bbox\n",
    "    aspect_ratio = 1. * (bounding_box[3] - bounding_box[1]) / (bounding_box[2] - bounding_box[0])\n",
    "    \n",
    "    # Aspect can be > 1. We want a value that provides a penalty when aspect is not near 1.\n",
    "    if aspect_ratio > 1:\n",
    "        aspect_penalty = 1./aspect_ratio\n",
    "    else:\n",
    "        aspect_penalty = aspect_ratio\n",
    "        \n",
    "    return properties.solidity * aspect_penalty"
   ]
  },
  {
   "cell_type": "code",
   "execution_count": null,
   "metadata": {
    "collapsed": true
   },
   "outputs": [],
   "source": [
    "circleness(props[0])"
   ]
  },
  {
   "cell_type": "markdown",
   "metadata": {},
   "source": [
    "## Viewing Statistics of Region Properties\n",
    "\n",
    "But is this a _good_ value of circleness? To find out, well need to know how to look at distributions of the properties. Let's start with `area` since that's a built-in property, not one we invented."
   ]
  },
  {
   "cell_type": "code",
   "execution_count": null,
   "metadata": {
    "collapsed": true
   },
   "outputs": [],
   "source": [
    "all_areas = [property.area for property in props]\n",
    "sns.distplot(all_areas, bins=10)\n",
    "plt.xlim([min(all_areas), max(all_areas)])"
   ]
  },
  {
   "cell_type": "markdown",
   "metadata": {},
   "source": [
    "### Filtering regions by their properties\n",
    "\n",
    "We can see that we have a lot of very small regions. Can we filter these out and make a new list of only large regions?"
   ]
  },
  {
   "cell_type": "code",
   "execution_count": null,
   "metadata": {
    "collapsed": true
   },
   "outputs": [],
   "source": [
    "big_region_properties = [prop for prop in props if prop.area > 20]"
   ]
  },
  {
   "cell_type": "code",
   "execution_count": null,
   "metadata": {
    "collapsed": true
   },
   "outputs": [],
   "source": [
    "print(\"{} regions out of {} are big enough\".format(len(big_region_properties), len(props)))"
   ]
  },
  {
   "cell_type": "markdown",
   "metadata": {
    "collapsed": true
   },
   "source": [
    "**Exercise** View the histogram of circleness values in our large cells only."
   ]
  },
  {
   "cell_type": "code",
   "execution_count": null,
   "metadata": {
    "collapsed": true
   },
   "outputs": [],
   "source": [
    "circleness_values = [circleness(prop) for prop in big_region_properties]\n",
    "sns.distplot(circleness_values, bins=20)\n",
    "plt.xlim(min(circleness_values), max(circleness_values))"
   ]
  },
  {
   "cell_type": "markdown",
   "metadata": {},
   "source": [
    "Let's look at an example with low circleness and with high. To do this, we will sort the big region properties by circlness."
   ]
  },
  {
   "cell_type": "code",
   "execution_count": null,
   "metadata": {
    "collapsed": true
   },
   "outputs": [],
   "source": [
    "props_by_circleness = sorted(big_region_properties, key=circleness)\n",
    "\n",
    "low_circ = props_by_circleness[0]\n",
    "high_circ = props_by_circleness[-1]\n",
    "\n",
    "fig, ax = plt.subplots(1, 2, figsize=(8, 4))\n",
    "ax[0].imshow(low_circ.image, cmap='inferno', interpolation='nearest')\n",
    "ax[0].set_title(\"Lowest circleness\")\n",
    "ax[1].imshow(high_circ.image, cmap='inferno', interpolation='nearest')\n",
    "ax[1].set_title(\"Highest circleness\")"
   ]
  },
  {
   "cell_type": "markdown",
   "metadata": {},
   "source": [
    "Notice how the low-circleness region looks like it might be a dendritic process rather than a cell body. Our circleness is working as expected.\n",
    "\n",
    "Remember that you can use your intuition to design exotic region properties and use them to remove unwanted regions, _but_ see if the existing properties in `regionprops` can give you what you want first, or if there are established methods in the literature. If not, always invest time visualizing results from your metric to make sure it's working as you anticipate. For example, as I was putting this together I noticed that circleness works poorly on very small regions. Good thing we already know how to filter regions out by their area!"
   ]
  }
 ],
 "metadata": {
  "anaconda-cloud": {},
  "kernelspec": {
   "display_name": "Python 3",
   "language": "python",
   "name": "python3"
  },
  "language_info": {
   "codemirror_mode": {
    "name": "ipython",
    "version": 3
   },
   "file_extension": ".py",
   "mimetype": "text/x-python",
   "name": "python",
   "nbconvert_exporter": "python",
   "pygments_lexer": "ipython3",
   "version": "3.6.1"
  }
 },
 "nbformat": 4,
 "nbformat_minor": 1
}
