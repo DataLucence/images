{
 "cells": [
  {
   "cell_type": "markdown",
   "metadata": {},
   "source": [
    "**no care was taken to make sure this is theoretically/quantitatively correct** for a first pass. Produces uneven illumination (or uneven autofluorescence/background depending on how it's modified) and adds some shot-like noise on top of this to corrupt the signal. The goal is to simulate lower signal data, since our real starting sample data has high contrast and high SNR. "
   ]
  },
  {
   "cell_type": "code",
   "execution_count": 379,
   "metadata": {
    "collapsed": true
   },
   "outputs": [],
   "source": [
    "%matplotlib inline\n",
    "import numpy as np\n",
    "import matplotlib.pyplot as plt\n",
    "import matplotlib.image as mpimg\n",
    "import seaborn as sns\n",
    "import math\n",
    "import scipy.misc\n",
    "\n",
    "sns.set_style('dark', rc={'image.cmap':'inferno'})"
   ]
  },
  {
   "cell_type": "code",
   "execution_count": 364,
   "metadata": {
    "collapsed": true
   },
   "outputs": [],
   "source": [
    "#parameters to be used later\n",
    "illumination_unevenness = 0.8 #modifies the sigma determining the illumination artifact\n",
    "illumination_unevenness_power = 4\n",
    "mean_dark_current = 10**2 "
   ]
  },
  {
   "cell_type": "code",
   "execution_count": 346,
   "metadata": {
    "collapsed": false
   },
   "outputs": [],
   "source": [
    "from skimage.io import imread\n",
    "data_nodrug = imread(\"../../../Downloads/DMSO-1.tif\")"
   ]
  },
  {
   "cell_type": "code",
   "execution_count": 367,
   "metadata": {
    "collapsed": false
   },
   "outputs": [],
   "source": [
    "data_nodrug.dtype\n",
    "data_nodrug.shape\n",
    "\n",
    "im = data_nodrug[4,:,:,2]\n",
    "\n",
    "plt.imshow(im, vmin = 0, vmax = im.max()*0.5)"
   ]
  },
  {
   "cell_type": "code",
   "execution_count": 368,
   "metadata": {
    "collapsed": false
   },
   "outputs": [],
   "source": [
    "mid_index = int(im.shape[0]/2)\n",
    "print(mid_index)"
   ]
  },
  {
   "cell_type": "code",
   "execution_count": 369,
   "metadata": {
    "collapsed": false
   },
   "outputs": [],
   "source": [
    "#crudely simulate uneven illumination\n",
    "mu = mid_index\n",
    "sigma = mid_index*illumination_unevenness\n",
    "\n",
    "def gaussian(x, mu, sigma):\n",
    "    return np.exp(-np.power(x - mu, 2.) / (2 * np.power(sigma, 2.)))\n",
    "\n",
    "gauss = gaussian(np.linspace(0, im.shape[0]-1, im.shape[1]), mu, sigma)\n",
    "\n",
    "dim1 = im.shape[0]\n",
    "dim2 = im.shape[1]\n",
    "noiseD1 = np.zeros([dim1,dim2]) \n",
    "\n",
    "for x in range(0, dim1):\n",
    "    noiseD1[:,x] = gauss\n",
    "\n",
    "illumination = np.power(noiseD1.transpose()*noiseD1 , illumination_unevenness_power/2)\n",
    "\n",
    "im_illum_artifact = illumination*im\n",
    "\n",
    "plt.imshow(im_illum_artifact, vmin = 0, vmax = im_illum_artifact.max()*0.5)"
   ]
  },
  {
   "cell_type": "code",
   "execution_count": 370,
   "metadata": {
    "collapsed": false
   },
   "outputs": [],
   "source": [
    "#add dark/thermal noise, uniform across image and normally distributed\n",
    "#not technically correct, noise should come from dark current shot noise\n",
    "dark_current = np.random.normal(mean_dark_current, 1, [dim1,dim2])"
   ]
  },
  {
   "cell_type": "code",
   "execution_count": 371,
   "metadata": {
    "collapsed": true
   },
   "outputs": [],
   "source": [
    "noisy = im_illum_artifact + dark_current\n",
    "noisy = noisy/noisy.max() * 2**16"
   ]
  },
  {
   "cell_type": "code",
   "execution_count": 372,
   "metadata": {
    "collapsed": false
   },
   "outputs": [],
   "source": [
    "plt.imshow(noisy, vmin = 0, vmax = noisy.max()*0.5)"
   ]
  },
  {
   "cell_type": "code",
   "execution_count": 380,
   "metadata": {
    "collapsed": false
   },
   "outputs": [],
   "source": [
    "mpimg.imsave(\"../data/uneven_illum_test.tif\",noisy)"
   ]
  }
 ],
 "metadata": {
  "anaconda-cloud": {},
  "kernelspec": {
   "display_name": "Python [Root]",
   "language": "python",
   "name": "Python [Root]"
  },
  "language_info": {
   "codemirror_mode": {
    "name": "ipython",
    "version": 3
   },
   "file_extension": ".py",
   "mimetype": "text/x-python",
   "name": "python",
   "nbconvert_exporter": "python",
   "pygments_lexer": "ipython3",
   "version": "3.5.2"
  }
 },
 "nbformat": 4,
 "nbformat_minor": 0
}
