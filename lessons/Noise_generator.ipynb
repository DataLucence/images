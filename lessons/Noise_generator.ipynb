{
 "cells": [
  {
   "cell_type": "markdown",
   "metadata": {},
   "source": [
    "**no care was taken to make sure this is theoretically/quantitatively correct** for a first pass. Produces uneven illumination (or uneven autofluorescence/background depending on how it's modified) and adds some shot-like noise on top of this to corrupt the signal. The goal is to simulate lower signal data, since our real starting sample data has high contrast and high SNR. "
   ]
  },
  {
   "cell_type": "code",
   "execution_count": 97,
   "metadata": {
    "collapsed": true
   },
   "outputs": [],
   "source": [
    "%matplotlib inline\n",
    "import numpy as np\n",
    "import matplotlib.pyplot as plt\n",
    "import matplotlib.image as mpimg\n",
    "import seaborn as sns\n",
    "import math\n",
    "import scipy.misc\n",
    "import random\n",
    "\n",
    "sns.set_style('dark', rc={'image.cmap':'inferno'})"
   ]
  },
  {
   "cell_type": "code",
   "execution_count": 98,
   "metadata": {
    "collapsed": true
   },
   "outputs": [],
   "source": [
    "#parameters to be used later\n",
    "illumination_unevenness = 0.8 #modifies the sigma determining the illumination artifact\n",
    "illumination_unevenness_power = 4\n",
    "mean_dark_current = 10**2 \n",
    "percent_dead_pix = 0.1\n",
    "bit_depth_save = 16"
   ]
  },
  {
   "cell_type": "code",
   "execution_count": 99,
   "metadata": {
    "collapsed": false
   },
   "outputs": [],
   "source": [
    "from skimage.io import imread\n",
    "data_nodrug = imread(\"../data/confocal_drug_panel/drugA_raw.tif\")"
   ]
  },
  {
   "cell_type": "code",
   "execution_count": 102,
   "metadata": {
    "collapsed": false
   },
   "outputs": [],
   "source": [
    "data_nodrug.dtype\n",
    "data_nodrug.shape\n",
    "\n",
    "im = data_nodrug[3,:,:,2]\n",
    "\n",
    "plt.imshow(im, vmin = 0, vmax = im.max()*0.5)"
   ]
  },
  {
   "cell_type": "code",
   "execution_count": 103,
   "metadata": {
    "collapsed": false
   },
   "outputs": [],
   "source": [
    "mid_index = int(im.shape[0]/2)\n",
    "print(mid_index)"
   ]
  },
  {
   "cell_type": "code",
   "execution_count": 104,
   "metadata": {
    "collapsed": false
   },
   "outputs": [],
   "source": [
    "#crudely simulate uneven illumination\n",
    "mu = mid_index\n",
    "sigma = mid_index*illumination_unevenness\n",
    "\n",
    "def gaussian(x, mu, sigma):\n",
    "    return np.exp(-np.power(x - mu, 2.) / (2 * np.power(sigma, 2.)))\n",
    "\n",
    "gauss = gaussian(np.linspace(0, im.shape[0]-1, im.shape[1]), mu, sigma)\n",
    "\n",
    "dim1 = im.shape[0]\n",
    "dim2 = im.shape[1]\n",
    "noiseD1 = np.zeros([dim1,dim2]) \n",
    "\n",
    "for x in range(0, dim1):\n",
    "    noiseD1[:,x] = gauss\n",
    "\n",
    "illumination = np.power(noiseD1.transpose()*noiseD1 , illumination_unevenness_power/2)\n",
    "\n",
    "im_illum_artifact = illumination*im\n",
    "\n",
    "plt.imshow(im_illum_artifact, vmin = 0, vmax = im_illum_artifact.max()*0.5)"
   ]
  },
  {
   "cell_type": "code",
   "execution_count": 105,
   "metadata": {
    "collapsed": false
   },
   "outputs": [],
   "source": [
    "#add dark/thermal noise, uniform across image and normally distributed\n",
    "#not technically correct, noise should come from dark current shot noise\n",
    "dark_current = np.random.normal(mean_dark_current, 1, [dim1,dim2])\n",
    "noisy = im_illum_artifact + dark_current\n"
   ]
  },
  {
   "cell_type": "code",
   "execution_count": 106,
   "metadata": {
    "collapsed": false
   },
   "outputs": [],
   "source": [
    "#pretend this is a ccd or scmos and add some dead pixels\n",
    "num_dead = int(percent_dead_pix*dim1*dim2/100)\n",
    "\n",
    "idxs = random.sample(list(np.arange(dim1*dim2)),num_dead)\n",
    "idx_bool = np.zeros([1,(dim1)*(dim2)], dtype=bool)\n",
    "idx_bool[0,np.array(idxs)] = True\n",
    "idx2d_bool = np.reshape(idx_bool, (dim1, dim2))\n",
    "\n",
    "noisy[idx2d_bool] = 0"
   ]
  },
  {
   "cell_type": "code",
   "execution_count": 107,
   "metadata": {
    "collapsed": false
   },
   "outputs": [],
   "source": [
    "plt.imshow(noisy[300:500,300:500], vmin = 0, vmax = noisy.max*0.7())"
   ]
  },
  {
   "cell_type": "code",
   "execution_count": 108,
   "metadata": {
    "collapsed": false
   },
   "outputs": [],
   "source": [
    "noisy = noisy/noisy.max() * 2**bit_depth_save\n",
    "mpimg.imsave(\"../data/uneven_illum_test.tif\",noisy)"
   ]
  },
  {
   "cell_type": "markdown",
   "metadata": {},
   "source": [
    "Make this one block of text so can loop through"
   ]
  },
  {
   "cell_type": "code",
   "execution_count": null,
   "metadata": {
    "collapsed": true
   },
   "outputs": [],
   "source": [
    "# import json\n",
    "# with open('../data/confocal_drug_panel/drug.json', mode='r') as f_drug:\n",
    "#     meta_drug = json.load(f_drug)\n",
    "# with open('../data/no_drug.json', mode='r') as f_nodrug:\n",
    "#     meta_nodrug = json.load(f_nodrug)\n",
    "\n",
    "# drug_stack = {}\n",
    "# nodrug_stack = {}\n",
    "# for idx, channel in enumerate(meta_drug['channels']):\n",
    "#     drug_stack[channel] = data_drug[:,:,idx]\n",
    "#     nodrug_stack[channel] = data_nodrug[:,:,idx]    \n",
    "#     print(channel)\n",
    "\n",
    "illumination_unevenness = 0.8 #modifies the sigma determining the illumination artifact\n",
    "illumination_unevenness_power = 4\n",
    "mean_dark_current = 10**2 \n",
    "percent_dead_pix = 0.1\n",
    "bit_depth_save = 16\n",
    "save_fame = \"drugA.tif\"\n",
    "from skimage.io import imread\n",
    "data_nodrug = imread(\"../data/confocal_drug_panel/drugA_raw.tif\")\n",
    "\n",
    "im = data_nodrug[3,:,:,2]\n",
    "plt.imshow(im, vmin = 0, vmax = im.max()*0.5)\n",
    "\n",
    "\n",
    "def add_noise(im, illumination_unevenness, illumination_unevenness_power, mean_dark_current, percent_dead_pix, save_fname, bit_depth_save)\n",
    "    mid_index = int(im.shape[0]/2)\n",
    "    #crudely simulate uneven illumination\n",
    "    mu = mid_index\n",
    "    sigma = mid_index*illumination_unevenness\n",
    "    def gaussian(x, mu, sigma):\n",
    "        return np.exp(-np.power(x - mu, 2.) / (2 * np.power(sigma, 2.)))\n",
    "    gauss = gaussian(np.linspace(0, im.shape[0]-1, im.shape[1]), mu, sigma)\n",
    "    dim1 = im.shape[0]\n",
    "    dim2 = im.shape[1]\n",
    "    noiseD1 = np.zeros([dim1,dim2]) \n",
    "\n",
    "    for x in range(0, dim1):\n",
    "        noiseD1[:,x] = gauss\n",
    "\n",
    "    illumination = np.power(noiseD1.transpose()*noiseD1 , illumination_unevenness_power/2)\n",
    "    im_illum_artifact = illumination*im\n",
    "    plt.imshow(im_illum_artifact, vmin = 0, vmax = im_illum_artifact.max()*0.5)\n",
    "\n",
    "    #add dark/thermal noise, uniform across image and normally distributed\n",
    "    #not technically correct, noise should come from dark current shot noise\n",
    "    dark_current = np.random.normal(mean_dark_current, 1, [dim1,dim2])\n",
    "    noisy = im_illum_artifact + dark_current\n",
    "\n",
    "    #pretend this is a ccd or scmos and add some dead pixels\n",
    "    num_dead = int(percent_dead_pix*dim1*dim2/100)\n",
    "\n",
    "    #the below line doesn't run, and I'm not able to trouble-shoot it right now\n",
    "    noisy[random.sample(int(np.arange(dim1)),num_dead) , random.sample(int(np.arange(dim2)), num_dead)] = 0\n",
    "\n",
    "    noisy = noisy/noisy.max() * 2**bit_depth_save\n",
    "    return noisy\n",
    "\n"
   ]
  },
  {
   "cell_type": "code",
   "execution_count": null,
   "metadata": {
    "collapsed": true
   },
   "outputs": [],
   "source": []
  }
 ],
 "metadata": {
  "anaconda-cloud": {},
  "kernelspec": {
   "display_name": "Python [Root]",
   "language": "python",
   "name": "Python [Root]"
  },
  "language_info": {
   "codemirror_mode": {
    "name": "ipython",
    "version": 3
   },
   "file_extension": ".py",
   "mimetype": "text/x-python",
   "name": "python",
   "nbconvert_exporter": "python",
   "pygments_lexer": "ipython3",
   "version": "3.5.2"
  }
 },
 "nbformat": 4,
 "nbformat_minor": 0
}
