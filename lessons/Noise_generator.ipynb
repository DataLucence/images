{
 "cells": [
  {
   "cell_type": "markdown",
   "metadata": {},
   "source": [
    "**no care was taken to make sure this is theoretically/quantitatively correct** for a first pass. Produces uneven illumination (or uneven autofluorescence/background depending on how it's modified) and adds some shot-like noise on top of this to corrupt the signal. The goal is to simulate lower signal data, since our real starting sample data has high contrast and high SNR. "
   ]
  },
  {
   "cell_type": "code",
   "execution_count": 137,
   "metadata": {
    "collapsed": true
   },
   "outputs": [],
   "source": [
    "%matplotlib inline\n",
    "import numpy as np\n",
    "import matplotlib.pyplot as plt\n",
    "import matplotlib.image as mpimg\n",
    "import seaborn as sns\n",
    "import math\n",
    "import scipy.misc\n",
    "import random\n",
    "from tifffile import imsave"
   ]
  },
  {
   "cell_type": "code",
   "execution_count": 138,
   "metadata": {
    "collapsed": true
   },
   "outputs": [],
   "source": [
    "#parameters to be used later\n",
    "illumination_unevenness = 0.8 #modifies the sigma determining the illumination artifact\n",
    "illumination_unevenness_power = 4\n",
    "mean_dark_current = 10**2 \n",
    "percent_dead_pix = 0.1\n",
    "bit_depth_save = 16\n",
    "autofluorescence = 0.05 #autofluorescence relative to signal"
   ]
  },
  {
   "cell_type": "code",
   "execution_count": 139,
   "metadata": {
    "collapsed": false
   },
   "outputs": [],
   "source": [
    "from skimage.io import imread\n",
    "raw = imread(\"../data/confocal_drug_panel/DMSO_raw.tif\")"
   ]
  },
  {
   "cell_type": "code",
   "execution_count": 140,
   "metadata": {
    "collapsed": false
   },
   "outputs": [],
   "source": [
    "raw.shape"
   ]
  },
  {
   "cell_type": "code",
   "execution_count": 141,
   "metadata": {
    "collapsed": false
   },
   "outputs": [],
   "source": [
    "im = raw[3,:,:,2]\n",
    "plt.imshow(im, vmin = 0, vmax = im.max()*0.5)"
   ]
  },
  {
   "cell_type": "code",
   "execution_count": 142,
   "metadata": {
    "collapsed": false
   },
   "outputs": [],
   "source": [
    "mid_index = int(raw.shape[1]/2)\n",
    "print(mid_index)"
   ]
  },
  {
   "cell_type": "code",
   "execution_count": 143,
   "metadata": {
    "collapsed": false
   },
   "outputs": [],
   "source": [
    "#crudely simulate uneven illumination\n",
    "\n",
    "#get parameters that are the same across all of the channels and slices\n",
    "mid_index = int(raw.shape[1]/2)\n",
    "dim1 = raw.shape[1]\n",
    "dim2 = raw.shape[2]\n",
    "noisy = np.zeros(raw.shape)\n",
    "\n",
    "def gaussian(x, mu, sigma):\n",
    "            return np.exp(-np.power(x - mu, 2.) / (2 * np.power(sigma, 2.)))\n",
    "mu = mid_index\n",
    "sigma = mid_index*illumination_unevenness\n",
    "gauss = gaussian(np.linspace(0, im.shape[0]-1, im.shape[1]), mu, sigma)\n",
    "        \n",
    "for Z in range(0,raw.shape[0]):\n",
    "    for ch in range(0,raw.shape[3]):\n",
    "        im = raw[Z,:,:,ch]\n",
    "        noiseD1 = np.zeros([dim1,dim2]) \n",
    "        for x in range(0, dim1):\n",
    "            noiseD1[:,x] = gauss\n",
    "        illumination = np.power(noiseD1.transpose()*noiseD1 , illumination_unevenness_power/2)\n",
    "        noisy[Z,:,:,ch] = illumination*im\n",
    "        \n",
    "plt.imshow(noisy[3,:,:,2], vmin = 0, vmax = im_illum_artifact.max()*0.5)"
   ]
  },
  {
   "cell_type": "code",
   "execution_count": 144,
   "metadata": {
    "collapsed": false
   },
   "outputs": [],
   "source": [
    "#add dark/thermal noise, uniform across image and normally distributed\n",
    "#not technically correct, noise should come from dark current shot noise\n",
    "for Z in range(0,raw.shape[0]):\n",
    "    for ch in range(0,raw.shape[3]):\n",
    "        im = raw[Z,:,:,ch]    \n",
    "        dark_current = np.random.normal(mean_dark_current, 1, [dim1,dim2])\n",
    "        noisy[Z,:,:,ch] = noisy[Z,:,:,ch] + dark_current\n"
   ]
  },
  {
   "cell_type": "code",
   "execution_count": 145,
   "metadata": {
    "collapsed": false
   },
   "outputs": [],
   "source": [
    "#pretend this is a ccd or scmos and add some dead pixels\n",
    "num_dead = int(percent_dead_pix*dim1*dim2/100)\n",
    "\n",
    "for Z in range(0,raw.shape[0]):\n",
    "    for ch in range(0,raw.shape[3]):\n",
    "        idxs = random.sample(list(np.arange(dim1*dim2)),num_dead)\n",
    "        idx_bool = np.zeros([1,(dim1)*(dim2)], dtype=bool)\n",
    "        idx_bool[0,np.array(idxs)] = True\n",
    "        idx2d_bool = np.reshape(idx_bool, (dim1, dim2))\n",
    "        noisy[Z,idx2d_bool,ch] = 0"
   ]
  },
  {
   "cell_type": "code",
   "execution_count": 146,
   "metadata": {
    "collapsed": false
   },
   "outputs": [],
   "source": [
    "plt.imshow(noisy[3,300:500,300:500,2], vmin = 0, vmax = noisy.max()*0.01)"
   ]
  },
  {
   "cell_type": "code",
   "execution_count": 147,
   "metadata": {
    "collapsed": false
   },
   "outputs": [],
   "source": [
    "noisy = np.uint16(noisy/noisy.max() * (2**bit_depth_save - 1 ))\n",
    "imsave(\"../data/confocal_drug_panel/DMSO.tif\",noisy)\n",
    "noisy.shape"
   ]
  },
  {
   "cell_type": "code",
   "execution_count": 154,
   "metadata": {
    "collapsed": false
   },
   "outputs": [],
   "source": [
    "#write json file for the sample modified dataset\n",
    "import json\n",
    "meta = {'cell_type': 'fibroblast', 'channels': [\"your_fav_protein\", \"nucleus\", \"actin\"], 'pixel_size': [0.3459442,0.3459442,0.7694383], 'axes': ['ZXYTC'],'raw_data_date': ['add_this'], 'image_preprocessing_done': [\"Noise_generator.ipynb\", \"Branch=day3-day4-rework\", \"GitCommitId=add_this\"]}\n",
    "with open('../data/confocal_drug_panel/DMSO_metadata.json', 'w') as f:\n",
    "    json.dump(meta, f)"
   ]
  }
 ],
 "metadata": {
  "anaconda-cloud": {},
  "kernelspec": {
   "display_name": "Python [Root]",
   "language": "python",
   "name": "Python [Root]"
  },
  "language_info": {
   "codemirror_mode": {
    "name": "ipython",
    "version": 3
   },
   "file_extension": ".py",
   "mimetype": "text/x-python",
   "name": "python",
   "nbconvert_exporter": "python",
   "pygments_lexer": "ipython3",
   "version": "3.5.2"
  }
 },
 "nbformat": 4,
 "nbformat_minor": 0
}
