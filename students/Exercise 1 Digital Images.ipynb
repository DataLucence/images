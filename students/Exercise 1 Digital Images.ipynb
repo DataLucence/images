{
 "cells": [
  {
   "cell_type": "markdown",
   "metadata": {},
   "source": [
    "# Exercise 1: Digital Images\n",
    "\n",
    "Associated learning goal: Understand what a digital image is and how it is commonly represented as bits and bytes.\n",
    "- Loading and viewing images\n",
    "    - Load image into iPython notebook\n",
    "    - View image in iPython notebook\n",
    "    - Get bit depth of image\n",
    "- Indexing and arrays\n",
    "    - Print a subset of pixel values (such as the top right corner)\n",
    "    - Set that subset of values to 0\n",
    "    - View the modified image in iPython\n",
    "- Histogram the pixel values in the image\n",
    "- Color maps and color science\n",
    "- File size, disk space, and memory\n",
    "    - Report the size of the file on the disk\n",
    "    - Report the size of the file read into memory\n",
    "    - Save the file in another format (png, maybe?) and then report the file size on disk"
   ]
  },
  {
   "cell_type": "markdown",
   "metadata": {},
   "source": [
    "### Exercise 1.1: Practice using jupyter notebooks"
   ]
  },
  {
   "cell_type": "markdown",
   "metadata": {},
   "source": [
    "In the line below (that reads \"My notes about jupyter notebooks\"), change the cell type to a markdown (non-executable comments). It should look like this line of text when you're done. \n",
    "\n",
    "\n",
    "How to: \n",
    "Click just to the left of the cell. The marker on the right should turn blue (and not be green). If green, hit escape. \n",
    "\n",
    "Hint: You can find the shortcut for this by clicking outside of the text boxes and pressing \"h\". This information will be in the \"Command Mode\" section of the help menu."
   ]
  },
  {
   "cell_type": "code",
   "execution_count": null,
   "metadata": {
    "collapsed": true
   },
   "outputs": [],
   "source": [
    "**My notes about jupyter notebooks**\n",
    "\n",
    "From Edit mode (green-selected cell that you can type into)\n",
    "    - SHIFT-ENTER runs the cell and selects the cell below\n",
    "    - ESC puts you into command mode\n",
    "    - h pulls up a help window\n",
    "\n",
    "From Command mode (blue-marked cell)\n",
    "   - a enters a new cell above the selected cell\n",
    "   - b enters a new cell below the selected cell\n",
    "   - dd deletes the selected cell\n",
    "   - y changes the cell type to python code\n",
    "   - ENTER enters edit mode\n",
    "   - m WHAT DOES M DO????? (students, maybe you want to write this in :)"
   ]
  },
  {
   "cell_type": "markdown",
   "metadata": {},
   "source": [
    "Execute the line of code below to print \"It's a trap!\""
   ]
  },
  {
   "cell_type": "code",
   "execution_count": null,
   "metadata": {
    "collapsed": true,
    "scrolled": false
   },
   "outputs": [],
   "source": [
    "print(\"It's a trap!\")"
   ]
  },
  {
   "cell_type": "markdown",
   "metadata": {},
   "source": [
    "#Make **this** cell (which imports the libraries you'll need) a block of python-executable code and execute it. Note the hastag in front of this comment will keep it in comment form\n",
    "\n",
    "%matplotlib inline\n",
    "import numpy as np\n",
    "import matplotlib.pyplot as plt\n",
    "import seaborn as sns\n",
    "import scipy.ndimage\n",
    "from skimage.io import imread\n",
    "print(\"You should now have access to most of the useful commands for this lesson!\")"
   ]
  },
  {
   "cell_type": "markdown",
   "metadata": {},
   "source": [
    "Use bash commands to list the files in the folder DataLucence/data by prepending the commands with \"!\""
   ]
  },
  {
   "cell_type": "code",
   "execution_count": null,
   "metadata": {
    "collapsed": true
   },
   "outputs": [],
   "source": []
  },
  {
   "cell_type": "markdown",
   "metadata": {},
   "source": [
    "### Exercise 1.2: Import and view the sample dataset"
   ]
  },
  {
   "cell_type": "markdown",
   "metadata": {},
   "source": [
    "You'll find this dataset in the \"data\" folder in the main DataLucence folder. It's called \"organ-of-corti.tif\""
   ]
  },
  {
   "cell_type": "code",
   "execution_count": null,
   "metadata": {
    "collapsed": true
   },
   "outputs": [],
   "source": [
    "#make sure you have some of the relevant libraries imported locally"
   ]
  },
  {
   "cell_type": "code",
   "execution_count": null,
   "metadata": {
    "collapsed": true
   },
   "outputs": [],
   "source": [
    "#import the file and save it to a variable name"
   ]
  },
  {
   "cell_type": "code",
   "execution_count": null,
   "metadata": {
    "collapsed": true
   },
   "outputs": [],
   "source": [
    "#determine the shape of the array. What do the different indices indicate, do you think?"
   ]
  },
  {
   "cell_type": "code",
   "execution_count": null,
   "metadata": {
    "collapsed": true
   },
   "outputs": [],
   "source": [
    "#use matplotlib.pyplot 's imshow command to visualize a relevant slice of the dataset"
   ]
  },
  {
   "cell_type": "code",
   "execution_count": null,
   "metadata": {
    "collapsed": true
   },
   "outputs": [],
   "source": [
    "#Fix the code below to make a maximum intensity projection (across z) of your dataset. \n",
    "mip = np.zeros([im.shape[1], im.shape[2], im.shape[3]])\n",
    "\n",
    "for ch in range(1,im.shape[4]):\n",
    "    for z in range(1,im.shape[1]):\n",
    "        mip[:,:,ch] = np.maximum(mip[:,:,ch], im[z,:,:,ch])\n",
    "        \n",
    "plt.imshow(mip[:,:,1])\n",
    "\n",
    "#remember zero-indexing!"
   ]
  },
  {
   "cell_type": "markdown",
   "metadata": {},
   "source": [
    "### Exercise 1.3: Look up documentation for colormaps, changing colormaps, and changing contrast"
   ]
  },
  {
   "cell_type": "markdown",
   "metadata": {},
   "source": [
    "We discussed that \"jet\" or really any of the rainbow colormaps are perceptually deceiving. Find the documentation for the matplotlib colormaps online. View your \"data\" slice with your perceptually-uniform colormap of choice. "
   ]
  },
  {
   "cell_type": "code",
   "execution_count": null,
   "metadata": {
    "collapsed": true
   },
   "outputs": [],
   "source": []
  },
  {
   "cell_type": "code",
   "execution_count": null,
   "metadata": {
    "collapsed": true
   },
   "outputs": [],
   "source": [
    "#run this cell to look up the imshow documentation on how to adjust the contrast by specifying vmin and vmax. Use this to view the background pixels in your image.\n",
    "plt.imshow?"
   ]
  }
 ],
 "metadata": {
  "anaconda-cloud": {},
  "kernelspec": {
   "display_name": "Python 3",
   "language": "python",
   "name": "python3"
  },
  "language_info": {
   "codemirror_mode": {
    "name": "ipython",
    "version": 3
   },
   "file_extension": ".py",
   "mimetype": "text/x-python",
   "name": "python",
   "nbconvert_exporter": "python",
   "pygments_lexer": "ipython3",
   "version": "3.6.1"
  }
 },
 "nbformat": 4,
 "nbformat_minor": 1
}
