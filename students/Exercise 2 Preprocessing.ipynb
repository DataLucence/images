{
 "cells": [
  {
   "cell_type": "markdown",
   "metadata": {},
   "source": [
    "# Exercise 2: Preprocessing"
   ]
  },
  {
   "cell_type": "markdown",
   "metadata": {},
   "source": [
    "## Part 1: Global Thresholds"
   ]
  },
  {
   "cell_type": "markdown",
   "metadata": {},
   "source": [
    "### Exercise 2.1: Load and visualize the \"nucleus\" dataset."
   ]
  },
  {
   "cell_type": "code",
   "execution_count": null,
   "metadata": {
    "collapsed": true
   },
   "outputs": [],
   "source": [
    "#run me to import the libraries that you'll need for this exercise\n",
    "%matplotlib inline\n",
    "import numpy as np\n",
    "import matplotlib.pyplot as plt\n",
    "import seaborn as sns\n",
    "from skimage.io import imread\n",
    "sns.set_style('dark', rc={'image.cmap':'inferno'})\n",
    "import matplotlib.axes as ax"
   ]
  },
  {
   "cell_type": "markdown",
   "metadata": {},
   "source": [
    "Visualize the metadata associated with this dataset."
   ]
  },
  {
   "cell_type": "code",
   "execution_count": null,
   "metadata": {
    "collapsed": true
   },
   "outputs": [],
   "source": [
    "#run me to load data needed for the exercise and its associated metadata\n",
    "data_nodrug = imread(\"../data/confocal_drug_panel/DMSO.tif\")\n",
    "\n",
    "import json\n",
    "with open('../data/confocal_drug_panel/DMSO_metadata.json', mode='r') as f_nodrug:\n",
    "    meta_nodrug = json.load(f_nodrug)"
   ]
  },
  {
   "cell_type": "markdown",
   "metadata": {},
   "source": [
    "Use the metadata, the \"shape\" command, and/or visualization of the slice to determine what \"VARIABLE\" here denotes. Choose an appropriate value for this dataset. "
   ]
  },
  {
   "cell_type": "code",
   "execution_count": 2,
   "metadata": {
    "collapsed": true
   },
   "outputs": [],
   "source": [
    "#run me to organize the data into a form that's easier to index    \n",
    "VARIABLE = 1 #change me\n",
    "nodrug_slice = {}\n",
    "for idx, channel in enumerate(meta_nodrug['channels']):\n",
    "    nodrug_slice[channel] = data_nodrug[VARIABLE,:,:,idx]\n",
    "data = nodrug_slice['nucleus']"
   ]
  },
  {
   "cell_type": "markdown",
   "metadata": {},
   "source": [
    "Change the crop parameters to crop out a nucleus (1) in the middle of the image and (2) one on the edge of the image for visualization in the rest of the exercise. Run the cell."
   ]
  },
  {
   "cell_type": "code",
   "execution_count": 3,
   "metadata": {
    "collapsed": true
   },
   "outputs": [],
   "source": [
    "#parameters to adjust\n",
    "minX1 = 1 #crop edges for a cell in the center of field of view\n",
    "minY1 = 1\n",
    "minX2 = 1 #crop edges for cell at the edge of the field of view\n",
    "minY2 = 1\n",
    "crop_size = 200 #pix\n",
    "image_view_thresh = 0.7 #set for the entire notebook so can compare outputs more easily\n",
    "\n",
    "#run\n",
    "maxX1 = minX1 + crop_size\n",
    "maxY1 = minY1 + crop_size\n",
    "maxX2 = minX2 + crop_size\n",
    "maxY2 = minY2 + crop_size\n",
    "\n",
    "c1 = data[minY1 : maxY1, minX1 : maxX1] #crop of a nucleus in the center of the image\n",
    "c2 = data[minY2 : maxY2, minX2 : maxX2] #crop of the nucleus at the edge of the image\n",
    "\n",
    "top = data.max() * image_view_thresh\n",
    "\n",
    "fig, ax = plt.subplots(1, 3, figsize=(16, 4))\n",
    "ax[0].imshow(data, vmin=0, vmax=top, interpolation = 'nearest')\n",
    "ax[1].imshow(c1, vmin=0, vmax=top, interpolation = 'nearest')\n",
    "ax[2].imshow(c2, vmin=0, vmax=top, interpolation = 'nearest')"
   ]
  },
  {
   "cell_type": "markdown",
   "metadata": {},
   "source": [
    "### Exercise 2.2: Choose a global threshold for this dataset. Run the cell, and then use the sliding bar to visualize different thresholds."
   ]
  },
  {
   "cell_type": "code",
   "execution_count": 4,
   "metadata": {
    "collapsed": true
   },
   "outputs": [],
   "source": [
    "from ipywidgets import interactive\n",
    "@interactive\n",
    "def show_masks(thresh=(0, data.max() * 0.3, 40)):\n",
    "    fig, ax = plt.subplots(1, 3, figsize=(16, 4))\n",
    "    mask = np.zeros(data.shape)\n",
    "    mask[data >=thresh] = 1\n",
    "    mask_zoom_center = mask[minY1 : maxY1 , minX1 : maxX1]\n",
    "    mask_zoom_edge = mask[minY2 : maxY2 , minX2 : maxX2]\n",
    "    ax[0].imshow(mask, vmin=0, vmax=1)\n",
    "    ax[1].imshow(mask_zoom_center, vmin=0, vmax=1)\n",
    "    ax[2].imshow(mask_zoom_edge, vmin=0, vmax=1)\n",
    "show_masks"
   ]
  },
  {
   "cell_type": "markdown",
   "metadata": {},
   "source": [
    "### Exercise 2.3: View the histogram of pixel values for the \"nucleus\" dataset. Does Otsu's method make sense? "
   ]
  },
  {
   "cell_type": "code",
   "execution_count": null,
   "metadata": {
    "collapsed": true
   },
   "outputs": [],
   "source": []
  },
  {
   "cell_type": "markdown",
   "metadata": {},
   "source": [
    "### Exercise 2.4: Determine what is incorrect about the application of Otsu's method below (there are two independent errors)"
   ]
  },
  {
   "cell_type": "code",
   "execution_count": 7,
   "metadata": {
    "collapsed": true
   },
   "outputs": [],
   "source": [
    "from skimage import filters\n",
    "thresh = filters.threshold_li(data)\n",
    "print(\"the Otsu masking threshold for this dataset is:\", thresh)\n",
    "\n",
    "fig, ax = plt.subplots(1, 3, figsize=(16, 4))\n",
    "mask = np.zeros(data.shape)\n",
    "mask[data <=thresh] = 1\n",
    "\n",
    "mask_zoom_center = mask[minY1 : maxY1 , minX1 : maxX1]\n",
    "mask_zoom_edge = mask[minY2 : maxY2 , minX2 : maxX2]\n",
    "\n",
    "ax[0].imshow(mask, vmin=0, vmax=1)\n",
    "ax[1].imshow(mask_zoom_center, vmin=0, vmax=1)\n",
    "ax[2].imshow(mask_zoom_edge, vmin=0, vmax=1)"
   ]
  },
  {
   "cell_type": "markdown",
   "metadata": {
    "collapsed": true
   },
   "source": [
    "## Part 2: Rank Filters"
   ]
  },
  {
   "cell_type": "markdown",
   "metadata": {},
   "source": [
    "### Exercise 2.5: Match the output image to the operation that produced it (from a single input image)"
   ]
  },
  {
   "cell_type": "markdown",
   "metadata": {
    "collapsed": true
   },
   "source": [
    "Match the sample figure to the type of operation performed on it (with a disk structuring element)\n",
    "\n",
    "1) Mean filter, s=10\n",
    "2) Min filter, s=10\n",
    "3) Max filter, s=10\n",
    "4) Mean filter, s=2\n",
    "5) Min filter, s=2\n",
    "6) Max filter, s=2"
   ]
  },
  {
   "cell_type": "code",
   "execution_count": 5,
   "metadata": {
    "collapsed": true
   },
   "outputs": [],
   "source": [
    "from IPython.display import Image # Access IPython's browser-based image display.\n",
    "Image(\"../fig/raw_for_types_of_filters_exercise.png\") # Quickly display a diagram we saved in a file"
   ]
  },
  {
   "cell_type": "code",
   "execution_count": 6,
   "metadata": {
    "collapsed": true
   },
   "outputs": [],
   "source": [
    "Image(\"../fig/types_of_filters_exercise.png\") # Quickly display a diagram we saved in a file"
   ]
  },
  {
   "cell_type": "markdown",
   "metadata": {
    "collapsed": true
   },
   "source": [
    "### Exercise 2.6: Otsu's method performs sub-optimally in this case because of the distribution of background and foreground values. \n",
    "Find the documentation for the scipy filter options and determine if another thresholding algorithm would be more appropriate. "
   ]
  },
  {
   "cell_type": "code",
   "execution_count": null,
   "metadata": {
    "collapsed": true
   },
   "outputs": [],
   "source": []
  }
 ],
 "metadata": {
  "anaconda-cloud": {},
  "kernelspec": {
   "display_name": "Python 3",
   "language": "python",
   "name": "python3"
  },
  "language_info": {
   "codemirror_mode": {
    "name": "ipython",
    "version": 3
   },
   "file_extension": ".py",
   "mimetype": "text/x-python",
   "name": "python",
   "nbconvert_exporter": "python",
   "pygments_lexer": "ipython3",
   "version": "3.6.1"
  }
 },
 "nbformat": 4,
 "nbformat_minor": 1
}
