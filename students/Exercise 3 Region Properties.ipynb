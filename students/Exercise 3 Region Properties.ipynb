{
 "cells": [
  {
   "cell_type": "markdown",
   "metadata": {},
   "source": [
    "\n",
    "# Exercise 3: Quantifying Properties of Identified Regions or Cells\n",
    "## Student version\n",
    "\n",
    "We have learned to detect cells in digital images by making masks, and then applying those masks to measure properties of the entire image such as mean fluorescence intensity. Sometimes, it might also be useful to have an idea of how these properties vary from cell to cell. Today, we'll learn how to identify (and measure attributes of) several different regions of interest at once. We will --\n",
    "\n",
    "- Review how to detect cells by developing a pipeline to do so\n",
    "- Access properties of cells that have been detected, such as\n",
    "    - Area\n",
    "    - Intensity\n",
    "    - Image vs mask properties\n",
    "    - Measures of roundness\n",
    "        - Aspect ratio\n",
    "        - Convexity\n",
    "- View the statistics of properties of detected cells\n",
    "- Filter out unwanted cells based on their properties"
   ]
  },
  {
   "cell_type": "markdown",
   "metadata": {},
   "source": [
    "**Getting started:** Run the cells below to access the dataset"
   ]
  },
  {
   "cell_type": "code",
   "execution_count": null,
   "metadata": {
    "collapsed": true
   },
   "outputs": [],
   "source": [
    "%matplotlib inline\n",
    "\n",
    "#import the libraries you'll want\n",
    "import numpy as np\n",
    "import matplotlib.pyplot as plt\n",
    "import seaborn as sns\n",
    "from skimage.io import imread\n",
    "\n",
    "sns.set_style('dark')"
   ]
  },
  {
   "cell_type": "code",
   "execution_count": null,
   "metadata": {
    "collapsed": true
   },
   "outputs": [],
   "source": [
    "#read in the dataset\n",
    "raw = imread('../data/neurons10x.tif')\n",
    "#plt.imshow(raw, cmap='inferno') #un-comment this if you want to visualize the raw data"
   ]
  },
  {
   "cell_type": "markdown",
   "metadata": {},
   "source": [
    "### Exercise 3.1: Thinking of the tools we already have at our disposal, what are some features of this image that we need to act on before attempting to find cells."
   ]
  },
  {
   "cell_type": "code",
   "execution_count": null,
   "metadata": {},
   "outputs": [],
   "source": [
    "#subtract local background\n",
    "from skimage.morphology import disk\n",
    "from skimage.filters.rank import minimum as min_filter\n",
    "\n",
    "structuring_element = disk(51)\n",
    "background = min_filter(raw, structuring_element)\n",
    "#plt.imshow(background, cmap='inferno') #un-comment this if you want to visualize the bg"
   ]
  },
  {
   "cell_type": "code",
   "execution_count": null,
   "metadata": {},
   "outputs": [],
   "source": [
    "bg_subtracted = raw - background\n",
    "plt.imshow(bg_subtracted, cmap='inferno') #view the background-subtracted image"
   ]
  },
  {
   "cell_type": "code",
   "execution_count": null,
   "metadata": {},
   "outputs": [],
   "source": [
    "from skimage.filters import threshold_otsu\n",
    "#threshold the preprocessed image using Otsu's threshold\n",
    "threshold = threshold_otsu(bg_subtracted)\n",
    "foreground = bg_subtracted > threshold\n",
    "\n",
    "#plt.imshow(foreground, cmap='gray') #un-comment this if you want to visualize the mask"
   ]
  },
  {
   "cell_type": "code",
   "execution_count": null,
   "metadata": {},
   "outputs": [],
   "source": [
    "#label the cell regions\n",
    "from skimage.measure import label\n",
    "\n",
    "cell_labels = label(foreground)\n",
    "plt.imshow(cell_labels, cmap='Set1',vmin=0,vmax=cell_labels.max())"
   ]
  },
  {
   "cell_type": "code",
   "execution_count": null,
   "metadata": {},
   "outputs": [],
   "source": [
    "from skimage.measure import regionprops\n",
    "regionprops?"
   ]
  },
  {
   "cell_type": "code",
   "execution_count": null,
   "metadata": {
    "collapsed": true
   },
   "outputs": [],
   "source": [
    "props = regionprops(cell_labels, bg_subtracted)"
   ]
  },
  {
   "cell_type": "markdown",
   "metadata": {},
   "source": [
    "### Exercise 3.2: Determine how the output `props` is organized. "
   ]
  },
  {
   "cell_type": "code",
   "execution_count": null,
   "metadata": {},
   "outputs": [],
   "source": [
    "type(props)"
   ]
  },
  {
   "cell_type": "code",
   "execution_count": null,
   "metadata": {
    "collapsed": true
   },
   "outputs": [],
   "source": [
    "props?"
   ]
  },
  {
   "cell_type": "code",
   "execution_count": null,
   "metadata": {
    "collapsed": true
   },
   "outputs": [],
   "source": [
    "prop.shape\n",
    "#because props is a string, use len(props)"
   ]
  },
  {
   "cell_type": "code",
   "execution_count": null,
   "metadata": {
    "collapsed": true
   },
   "outputs": [],
   "source": [
    "len(props)"
   ]
  },
  {
   "cell_type": "markdown",
   "metadata": {},
   "source": [
    "What might the length of props mean?"
   ]
  },
  {
   "cell_type": "code",
   "execution_count": null,
   "metadata": {
    "collapsed": true
   },
   "outputs": [],
   "source": [
    "cell_labels.max()"
   ]
  },
  {
   "cell_type": "markdown",
   "metadata": {},
   "source": [
    "Each element of props corresponds to the labeled nuclei region."
   ]
  },
  {
   "cell_type": "markdown",
   "metadata": {},
   "source": [
    "### Exercise 3.3: Can you describe a situation where the aspect ratio is a bad metric?"
   ]
  },
  {
   "cell_type": "code",
   "execution_count": null,
   "metadata": {
    "collapsed": true
   },
   "outputs": [],
   "source": [
    "bounding_box = props[0].bbox\n",
    "aspect_ratio = 1. * (bounding_box[3] - bounding_box[1]) / (bounding_box[2] - bounding_box[0])\n",
    "print(aspect_ratio)"
   ]
  },
  {
   "cell_type": "markdown",
   "metadata": {},
   "source": [
    "### Exercise 3.4: View the histogram of circleness values in our large cells only."
   ]
  },
  {
   "cell_type": "code",
   "execution_count": null,
   "metadata": {
    "collapsed": true
   },
   "outputs": [],
   "source": [
    "big_region_properties = [prop for prop in props if prop.area > 20]"
   ]
  }
 ],
 "metadata": {
  "anaconda-cloud": {},
  "kernelspec": {
   "display_name": "Python 3",
   "language": "python",
   "name": "python3"
  },
  "language_info": {
   "codemirror_mode": {
    "name": "ipython",
    "version": 3
   },
   "file_extension": ".py",
   "mimetype": "text/x-python",
   "name": "python",
   "nbconvert_exporter": "python",
   "pygments_lexer": "ipython3",
   "version": "3.6.1"
  }
 },
 "nbformat": 4,
 "nbformat_minor": 1
}
